{
 "cells": [
  {
   "cell_type": "code",
   "execution_count": 332,
   "metadata": {
    "collapsed": true
   },
   "outputs": [],
   "source": [
    "import pandas as pd"
   ]
  },
  {
   "cell_type": "code",
   "execution_count": 709,
   "metadata": {
    "collapsed": true
   },
   "outputs": [],
   "source": [
    "data = pd.read_csv('TrainingSample.csv',sep=';')"
   ]
  },
  {
   "cell_type": "code",
   "execution_count": 710,
   "metadata": {
    "collapsed": true
   },
   "outputs": [],
   "source": [
    "data = data[data.age<130]\n",
    "data = data[data.work_experience>=0]"
   ]
  },
  {
   "cell_type": "code",
   "execution_count": 711,
   "metadata": {
    "collapsed": false
   },
   "outputs": [
    {
     "name": "stdout",
     "output_type": "stream",
     "text": [
      "Populating the interactive namespace from numpy and matplotlib\n"
     ]
    },
    {
     "name": "stderr",
     "output_type": "stream",
     "text": [
      "WARNING: pylab import has clobbered these variables: ['f', 'beta', 'test', 'figsize']\n",
      "`%matplotlib` prevents importing * from pylab and numpy\n"
     ]
    }
   ],
   "source": [
    "%pylab inline"
   ]
  },
  {
   "cell_type": "code",
   "execution_count": 713,
   "metadata": {
    "collapsed": false
   },
   "outputs": [
    {
     "data": {
      "text/html": [
       "<div>\n",
       "<table border=\"1\" class=\"dataframe\">\n",
       "  <thead>\n",
       "    <tr style=\"text-align: right;\">\n",
       "      <th></th>\n",
       "      <th>income</th>\n",
       "      <th>expenditures</th>\n",
       "      <th>loan_amount</th>\n",
       "      <th>loan_installment</th>\n",
       "      <th>Collateral_value</th>\n",
       "      <th>age</th>\n",
       "      <th>work_experience</th>\n",
       "    </tr>\n",
       "  </thead>\n",
       "  <tbody>\n",
       "    <tr>\n",
       "      <th>income</th>\n",
       "      <td>1.000000</td>\n",
       "      <td>0.673931</td>\n",
       "      <td>0.193889</td>\n",
       "      <td>0.480385</td>\n",
       "      <td>0.278288</td>\n",
       "      <td>0.057412</td>\n",
       "      <td>0.274490</td>\n",
       "    </tr>\n",
       "    <tr>\n",
       "      <th>expenditures</th>\n",
       "      <td>0.673931</td>\n",
       "      <td>1.000000</td>\n",
       "      <td>0.248074</td>\n",
       "      <td>0.366957</td>\n",
       "      <td>0.154540</td>\n",
       "      <td>0.117954</td>\n",
       "      <td>0.120038</td>\n",
       "    </tr>\n",
       "    <tr>\n",
       "      <th>loan_amount</th>\n",
       "      <td>0.193889</td>\n",
       "      <td>0.248074</td>\n",
       "      <td>1.000000</td>\n",
       "      <td>0.044956</td>\n",
       "      <td>0.589033</td>\n",
       "      <td>0.166353</td>\n",
       "      <td>0.148555</td>\n",
       "    </tr>\n",
       "    <tr>\n",
       "      <th>loan_installment</th>\n",
       "      <td>0.480385</td>\n",
       "      <td>0.366957</td>\n",
       "      <td>0.044956</td>\n",
       "      <td>1.000000</td>\n",
       "      <td>-0.075437</td>\n",
       "      <td>-0.045305</td>\n",
       "      <td>0.036099</td>\n",
       "    </tr>\n",
       "    <tr>\n",
       "      <th>Collateral_value</th>\n",
       "      <td>0.278288</td>\n",
       "      <td>0.154540</td>\n",
       "      <td>0.589033</td>\n",
       "      <td>-0.075437</td>\n",
       "      <td>1.000000</td>\n",
       "      <td>0.135294</td>\n",
       "      <td>0.186751</td>\n",
       "    </tr>\n",
       "    <tr>\n",
       "      <th>age</th>\n",
       "      <td>0.057412</td>\n",
       "      <td>0.117954</td>\n",
       "      <td>0.166353</td>\n",
       "      <td>-0.045305</td>\n",
       "      <td>0.135294</td>\n",
       "      <td>1.000000</td>\n",
       "      <td>0.749004</td>\n",
       "    </tr>\n",
       "    <tr>\n",
       "      <th>work_experience</th>\n",
       "      <td>0.274490</td>\n",
       "      <td>0.120038</td>\n",
       "      <td>0.148555</td>\n",
       "      <td>0.036099</td>\n",
       "      <td>0.186751</td>\n",
       "      <td>0.749004</td>\n",
       "      <td>1.000000</td>\n",
       "    </tr>\n",
       "  </tbody>\n",
       "</table>\n",
       "</div>"
      ],
      "text/plain": [
       "                    income  expenditures  loan_amount  loan_installment  \\\n",
       "income            1.000000      0.673931     0.193889          0.480385   \n",
       "expenditures      0.673931      1.000000     0.248074          0.366957   \n",
       "loan_amount       0.193889      0.248074     1.000000          0.044956   \n",
       "loan_installment  0.480385      0.366957     0.044956          1.000000   \n",
       "Collateral_value  0.278288      0.154540     0.589033         -0.075437   \n",
       "age               0.057412      0.117954     0.166353         -0.045305   \n",
       "work_experience   0.274490      0.120038     0.148555          0.036099   \n",
       "\n",
       "                  Collateral_value       age  work_experience  \n",
       "income                    0.278288  0.057412         0.274490  \n",
       "expenditures              0.154540  0.117954         0.120038  \n",
       "loan_amount               0.589033  0.166353         0.148555  \n",
       "loan_installment         -0.075437 -0.045305         0.036099  \n",
       "Collateral_value          1.000000  0.135294         0.186751  \n",
       "age                       0.135294  1.000000         0.749004  \n",
       "work_experience           0.186751  0.749004         1.000000  "
      ]
     },
     "execution_count": 713,
     "metadata": {},
     "output_type": "execute_result"
    }
   ],
   "source": [
    "names = data.columns.values[2:]\n",
    "from scipy.stats import spearmanr\n",
    "for i in range(7):\n",
    "    for j in range(7):\n",
    "        correlation.itemset(i,j,spearmanr(data[names[j]],data[names[i]])[0])\n",
    "pd.DataFrame(correlation,index=names, columns=names)"
   ]
  },
  {
   "cell_type": "code",
   "execution_count": 364,
   "metadata": {
    "collapsed": false
   },
   "outputs": [],
   "source": [
    "from sklearn import preprocessing\n",
    "x = data.values\n",
    "name = data.columns.values[2:]\n",
    "x = preprocessing.scale(x[:,2:])\n",
    "y = data['Default']\n",
    "data = pd.DataFrame(x,columns = name)"
   ]
  },
  {
   "cell_type": "code",
   "execution_count": 365,
   "metadata": {
    "collapsed": false,
    "scrolled": true
   },
   "outputs": [],
   "source": [
    "X = data.ix[:,0]\n",
    "X = X.reshape(len(data),1)\n",
    "Y = data.ix[:,1]\n",
    "Y = Y.reshape(len(data),1)"
   ]
  },
  {
   "cell_type": "code",
   "execution_count": 366,
   "metadata": {
    "collapsed": true
   },
   "outputs": [],
   "source": [
    "from sklearn.linear_model import LinearRegression"
   ]
  },
  {
   "cell_type": "code",
   "execution_count": 367,
   "metadata": {
    "collapsed": true
   },
   "outputs": [],
   "source": [
    "LR = LinearRegression(fit_intercept=True, normalize=True, copy_X=True, n_jobs=1)"
   ]
  },
  {
   "cell_type": "code",
   "execution_count": 368,
   "metadata": {
    "collapsed": false
   },
   "outputs": [
    {
     "data": {
      "text/plain": [
       "LinearRegression(copy_X=True, fit_intercept=True, n_jobs=1, normalize=True)"
      ]
     },
     "execution_count": 368,
     "metadata": {},
     "output_type": "execute_result"
    }
   ],
   "source": [
    "LR.fit(X,Y)"
   ]
  },
  {
   "cell_type": "code",
   "execution_count": 369,
   "metadata": {
    "collapsed": false
   },
   "outputs": [],
   "source": [
    "alpha = LR.coef_[0]"
   ]
  },
  {
   "cell_type": "code",
   "execution_count": 370,
   "metadata": {
    "collapsed": true
   },
   "outputs": [],
   "source": [
    "X = data.ix[:,5]\n",
    "X = X.reshape(len(data),1)\n",
    "Y = data.ix[:,5]\n",
    "Y = Y.reshape(len(data),1)\n",
    "LR = LinearRegression(fit_intercept=True, normalize=True, copy_X=True, n_jobs=1)\n",
    "LR.fit(X,Y)\n",
    "beta = LR.coef_[0]"
   ]
  },
  {
   "cell_type": "code",
   "execution_count": 371,
   "metadata": {
    "collapsed": false
   },
   "outputs": [],
   "source": [
    "for i in range(len(data)):\n",
    "    data.set_value(i,\"expenditures\",-data.get_value(i,\"expenditures\")+alpha*data.get_value(i,\"income\"))\n",
    "    data.set_value(i,\"work_experience\",-data.get_value(i,\"work_experience\")+beta*data.get_value(i,\"age\"))"
   ]
  },
  {
   "cell_type": "code",
   "execution_count": 372,
   "metadata": {
    "collapsed": false
   },
   "outputs": [],
   "source": [
    "data = data[['expenditures', 'loan_amount', 'loan_installment',\n",
    "       'Collateral_value', 'work_experience']]"
   ]
  },
  {
   "cell_type": "code",
   "execution_count": 373,
   "metadata": {
    "collapsed": false
   },
   "outputs": [],
   "source": [
    "X = data.ix[:,:]"
   ]
  },
  {
   "cell_type": "code",
   "execution_count": 374,
   "metadata": {
    "collapsed": false
   },
   "outputs": [
    {
     "data": {
      "text/plain": [
       "LinearRegression(copy_X=True, fit_intercept=True, n_jobs=1, normalize=True)"
      ]
     },
     "execution_count": 374,
     "metadata": {},
     "output_type": "execute_result"
    }
   ],
   "source": [
    "LR.fit(X,y)"
   ]
  },
  {
   "cell_type": "code",
   "execution_count": 375,
   "metadata": {
    "collapsed": false
   },
   "outputs": [],
   "source": [
    "data2 = pd.read_csv('ValidationSample.csv',sep=';')\n",
    "data2 = data2[data2.age<130];\n",
    "data2 = data2[data2.work_experience>=0];\n",
    "from sklearn import preprocessing\n",
    "x = data2.values\n",
    "name2 = data2.columns.values[2:]\n",
    "x = preprocessing.scale(x[:,2:])\n",
    "y_new = data2[\"Default\"]\n",
    "data2 = pd.DataFrame(x,columns = name2)\n",
    "for i in range(len(data2)):\n",
    "    data2.set_value(i,\"expenditures\",-data2.get_value(i,\"expenditures\")+alpha*data2.get_value(i,\"income\"))\n",
    "    data2.set_value(i,\"work_experience\",-data2.get_value(i,\"work_experience\")+beta*data2.get_value(i,\"age\"))\n",
    "data2 = data2[['expenditures', 'loan_amount', 'loan_installment',\n",
    "       'Collateral_value', 'work_experience']]\n",
    "X_new = data2.ix[:,:]"
   ]
  },
  {
   "cell_type": "code",
   "execution_count": 376,
   "metadata": {
    "collapsed": false
   },
   "outputs": [],
   "source": [
    "y_pred = LR.predict(X_new)\n",
    "y_pred = np.round(y_pred)"
   ]
  },
  {
   "cell_type": "code",
   "execution_count": 377,
   "metadata": {
    "collapsed": true
   },
   "outputs": [],
   "source": [
    "t=0\n",
    "for i in range(len(y_pred)):\n",
    "    if y_pred[i]==y_new[i]:\n",
    "        t = t + 1"
   ]
  },
  {
   "cell_type": "code",
   "execution_count": 378,
   "metadata": {
    "collapsed": false
   },
   "outputs": [
    {
     "data": {
      "text/plain": [
       "82"
      ]
     },
     "execution_count": 378,
     "metadata": {},
     "output_type": "execute_result"
    }
   ],
   "source": [
    "t"
   ]
  },
  {
   "cell_type": "code",
   "execution_count": 337,
   "metadata": {
    "collapsed": false,
    "scrolled": true
   },
   "outputs": [
    {
     "data": {
      "text/html": [
       "<div>\n",
       "<table border=\"1\" class=\"dataframe\">\n",
       "  <thead>\n",
       "    <tr style=\"text-align: right;\">\n",
       "      <th></th>\n",
       "      <th>ID</th>\n",
       "      <th>Default</th>\n",
       "      <th>income</th>\n",
       "      <th>expenditures</th>\n",
       "      <th>loan_amount</th>\n",
       "      <th>loan_installment</th>\n",
       "      <th>Collateral_value</th>\n",
       "      <th>age</th>\n",
       "      <th>work_experience</th>\n",
       "    </tr>\n",
       "  </thead>\n",
       "  <tbody>\n",
       "    <tr>\n",
       "      <th>0</th>\n",
       "      <td>t1</td>\n",
       "      <td>1</td>\n",
       "      <td>7091</td>\n",
       "      <td>2715</td>\n",
       "      <td>10200</td>\n",
       "      <td>4663</td>\n",
       "      <td>13164</td>\n",
       "      <td>44</td>\n",
       "      <td>15</td>\n",
       "    </tr>\n",
       "    <tr>\n",
       "      <th>1</th>\n",
       "      <td>t2</td>\n",
       "      <td>1</td>\n",
       "      <td>7760</td>\n",
       "      <td>2388</td>\n",
       "      <td>12200</td>\n",
       "      <td>3066</td>\n",
       "      <td>22787</td>\n",
       "      <td>43</td>\n",
       "      <td>21</td>\n",
       "    </tr>\n",
       "    <tr>\n",
       "      <th>2</th>\n",
       "      <td>t3</td>\n",
       "      <td>1</td>\n",
       "      <td>3239</td>\n",
       "      <td>2315</td>\n",
       "      <td>10000</td>\n",
       "      <td>1022</td>\n",
       "      <td>9070</td>\n",
       "      <td>46</td>\n",
       "      <td>26</td>\n",
       "    </tr>\n",
       "    <tr>\n",
       "      <th>4</th>\n",
       "      <td>t5</td>\n",
       "      <td>1</td>\n",
       "      <td>2889</td>\n",
       "      <td>1024</td>\n",
       "      <td>9600</td>\n",
       "      <td>1668</td>\n",
       "      <td>33165</td>\n",
       "      <td>44</td>\n",
       "      <td>15</td>\n",
       "    </tr>\n",
       "    <tr>\n",
       "      <th>5</th>\n",
       "      <td>t6</td>\n",
       "      <td>1</td>\n",
       "      <td>6498</td>\n",
       "      <td>3192</td>\n",
       "      <td>6600</td>\n",
       "      <td>2461</td>\n",
       "      <td>8866</td>\n",
       "      <td>45</td>\n",
       "      <td>18</td>\n",
       "    </tr>\n",
       "    <tr>\n",
       "      <th>6</th>\n",
       "      <td>t7</td>\n",
       "      <td>0</td>\n",
       "      <td>3057</td>\n",
       "      <td>979</td>\n",
       "      <td>7400</td>\n",
       "      <td>2679</td>\n",
       "      <td>5059</td>\n",
       "      <td>20</td>\n",
       "      <td>2</td>\n",
       "    </tr>\n",
       "    <tr>\n",
       "      <th>7</th>\n",
       "      <td>t8</td>\n",
       "      <td>0</td>\n",
       "      <td>4104</td>\n",
       "      <td>1998</td>\n",
       "      <td>6400</td>\n",
       "      <td>2655</td>\n",
       "      <td>17500</td>\n",
       "      <td>29</td>\n",
       "      <td>6</td>\n",
       "    </tr>\n",
       "    <tr>\n",
       "      <th>8</th>\n",
       "      <td>t9</td>\n",
       "      <td>0</td>\n",
       "      <td>3712</td>\n",
       "      <td>4721</td>\n",
       "      <td>8300</td>\n",
       "      <td>2001</td>\n",
       "      <td>6371</td>\n",
       "      <td>20</td>\n",
       "      <td>2</td>\n",
       "    </tr>\n",
       "    <tr>\n",
       "      <th>9</th>\n",
       "      <td>t10</td>\n",
       "      <td>1</td>\n",
       "      <td>3991</td>\n",
       "      <td>1531</td>\n",
       "      <td>9500</td>\n",
       "      <td>1461</td>\n",
       "      <td>11544</td>\n",
       "      <td>54</td>\n",
       "      <td>16</td>\n",
       "    </tr>\n",
       "    <tr>\n",
       "      <th>10</th>\n",
       "      <td>t11</td>\n",
       "      <td>1</td>\n",
       "      <td>6973</td>\n",
       "      <td>3781</td>\n",
       "      <td>8200</td>\n",
       "      <td>3334</td>\n",
       "      <td>10125</td>\n",
       "      <td>57</td>\n",
       "      <td>24</td>\n",
       "    </tr>\n",
       "    <tr>\n",
       "      <th>11</th>\n",
       "      <td>t12</td>\n",
       "      <td>1</td>\n",
       "      <td>5261</td>\n",
       "      <td>4106</td>\n",
       "      <td>14500</td>\n",
       "      <td>1624</td>\n",
       "      <td>39379</td>\n",
       "      <td>47</td>\n",
       "      <td>14</td>\n",
       "    </tr>\n",
       "    <tr>\n",
       "      <th>12</th>\n",
       "      <td>t13</td>\n",
       "      <td>1</td>\n",
       "      <td>6225</td>\n",
       "      <td>1631</td>\n",
       "      <td>8100</td>\n",
       "      <td>1694</td>\n",
       "      <td>41210</td>\n",
       "      <td>27</td>\n",
       "      <td>9</td>\n",
       "    </tr>\n",
       "    <tr>\n",
       "      <th>13</th>\n",
       "      <td>t14</td>\n",
       "      <td>1</td>\n",
       "      <td>7317</td>\n",
       "      <td>3048</td>\n",
       "      <td>10500</td>\n",
       "      <td>4551</td>\n",
       "      <td>20368</td>\n",
       "      <td>44</td>\n",
       "      <td>18</td>\n",
       "    </tr>\n",
       "    <tr>\n",
       "      <th>14</th>\n",
       "      <td>t15</td>\n",
       "      <td>1</td>\n",
       "      <td>3647</td>\n",
       "      <td>2046</td>\n",
       "      <td>8300</td>\n",
       "      <td>1354</td>\n",
       "      <td>9627</td>\n",
       "      <td>38</td>\n",
       "      <td>15</td>\n",
       "    </tr>\n",
       "    <tr>\n",
       "      <th>15</th>\n",
       "      <td>t16</td>\n",
       "      <td>1</td>\n",
       "      <td>4829</td>\n",
       "      <td>1454</td>\n",
       "      <td>11400</td>\n",
       "      <td>2164</td>\n",
       "      <td>14903</td>\n",
       "      <td>34</td>\n",
       "      <td>13</td>\n",
       "    </tr>\n",
       "    <tr>\n",
       "      <th>16</th>\n",
       "      <td>t17</td>\n",
       "      <td>1</td>\n",
       "      <td>5857</td>\n",
       "      <td>2611</td>\n",
       "      <td>8800</td>\n",
       "      <td>3654</td>\n",
       "      <td>36451</td>\n",
       "      <td>38</td>\n",
       "      <td>17</td>\n",
       "    </tr>\n",
       "    <tr>\n",
       "      <th>17</th>\n",
       "      <td>t18</td>\n",
       "      <td>1</td>\n",
       "      <td>6433</td>\n",
       "      <td>3451</td>\n",
       "      <td>13300</td>\n",
       "      <td>1590</td>\n",
       "      <td>32285</td>\n",
       "      <td>35</td>\n",
       "      <td>13</td>\n",
       "    </tr>\n",
       "    <tr>\n",
       "      <th>18</th>\n",
       "      <td>t19</td>\n",
       "      <td>0</td>\n",
       "      <td>2158</td>\n",
       "      <td>1500</td>\n",
       "      <td>4500</td>\n",
       "      <td>1736</td>\n",
       "      <td>5578</td>\n",
       "      <td>18</td>\n",
       "      <td>0</td>\n",
       "    </tr>\n",
       "    <tr>\n",
       "      <th>19</th>\n",
       "      <td>t20</td>\n",
       "      <td>1</td>\n",
       "      <td>2391</td>\n",
       "      <td>803</td>\n",
       "      <td>11500</td>\n",
       "      <td>946</td>\n",
       "      <td>17475</td>\n",
       "      <td>29</td>\n",
       "      <td>9</td>\n",
       "    </tr>\n",
       "    <tr>\n",
       "      <th>20</th>\n",
       "      <td>t21</td>\n",
       "      <td>0</td>\n",
       "      <td>1644</td>\n",
       "      <td>512</td>\n",
       "      <td>8500</td>\n",
       "      <td>1564</td>\n",
       "      <td>9265</td>\n",
       "      <td>19</td>\n",
       "      <td>1</td>\n",
       "    </tr>\n",
       "    <tr>\n",
       "      <th>21</th>\n",
       "      <td>t22</td>\n",
       "      <td>0</td>\n",
       "      <td>1000</td>\n",
       "      <td>923</td>\n",
       "      <td>8100</td>\n",
       "      <td>780</td>\n",
       "      <td>8196</td>\n",
       "      <td>35</td>\n",
       "      <td>3</td>\n",
       "    </tr>\n",
       "    <tr>\n",
       "      <th>22</th>\n",
       "      <td>t23</td>\n",
       "      <td>1</td>\n",
       "      <td>10284</td>\n",
       "      <td>2963</td>\n",
       "      <td>7800</td>\n",
       "      <td>6104</td>\n",
       "      <td>7285</td>\n",
       "      <td>31</td>\n",
       "      <td>13</td>\n",
       "    </tr>\n",
       "    <tr>\n",
       "      <th>23</th>\n",
       "      <td>t24</td>\n",
       "      <td>1</td>\n",
       "      <td>4316</td>\n",
       "      <td>1493</td>\n",
       "      <td>10000</td>\n",
       "      <td>2068</td>\n",
       "      <td>62934</td>\n",
       "      <td>20</td>\n",
       "      <td>2</td>\n",
       "    </tr>\n",
       "    <tr>\n",
       "      <th>24</th>\n",
       "      <td>t25</td>\n",
       "      <td>1</td>\n",
       "      <td>4262</td>\n",
       "      <td>2492</td>\n",
       "      <td>5000</td>\n",
       "      <td>2720</td>\n",
       "      <td>6775</td>\n",
       "      <td>36</td>\n",
       "      <td>18</td>\n",
       "    </tr>\n",
       "    <tr>\n",
       "      <th>25</th>\n",
       "      <td>t26</td>\n",
       "      <td>1</td>\n",
       "      <td>5616</td>\n",
       "      <td>3987</td>\n",
       "      <td>14800</td>\n",
       "      <td>2235</td>\n",
       "      <td>17487</td>\n",
       "      <td>28</td>\n",
       "      <td>10</td>\n",
       "    </tr>\n",
       "    <tr>\n",
       "      <th>26</th>\n",
       "      <td>t27</td>\n",
       "      <td>1</td>\n",
       "      <td>9839</td>\n",
       "      <td>3737</td>\n",
       "      <td>6000</td>\n",
       "      <td>7094</td>\n",
       "      <td>6320</td>\n",
       "      <td>31</td>\n",
       "      <td>7</td>\n",
       "    </tr>\n",
       "    <tr>\n",
       "      <th>27</th>\n",
       "      <td>t28</td>\n",
       "      <td>1</td>\n",
       "      <td>2529</td>\n",
       "      <td>1371</td>\n",
       "      <td>2900</td>\n",
       "      <td>1069</td>\n",
       "      <td>5235</td>\n",
       "      <td>26</td>\n",
       "      <td>8</td>\n",
       "    </tr>\n",
       "    <tr>\n",
       "      <th>28</th>\n",
       "      <td>t29</td>\n",
       "      <td>1</td>\n",
       "      <td>6511</td>\n",
       "      <td>2093</td>\n",
       "      <td>7700</td>\n",
       "      <td>3915</td>\n",
       "      <td>11965</td>\n",
       "      <td>44</td>\n",
       "      <td>20</td>\n",
       "    </tr>\n",
       "    <tr>\n",
       "      <th>29</th>\n",
       "      <td>t30</td>\n",
       "      <td>1</td>\n",
       "      <td>1000</td>\n",
       "      <td>642</td>\n",
       "      <td>5000</td>\n",
       "      <td>619</td>\n",
       "      <td>4303</td>\n",
       "      <td>45</td>\n",
       "      <td>15</td>\n",
       "    </tr>\n",
       "    <tr>\n",
       "      <th>30</th>\n",
       "      <td>t31</td>\n",
       "      <td>1</td>\n",
       "      <td>6542</td>\n",
       "      <td>3928</td>\n",
       "      <td>11500</td>\n",
       "      <td>4374</td>\n",
       "      <td>15516</td>\n",
       "      <td>44</td>\n",
       "      <td>12</td>\n",
       "    </tr>\n",
       "    <tr>\n",
       "      <th>...</th>\n",
       "      <td>...</td>\n",
       "      <td>...</td>\n",
       "      <td>...</td>\n",
       "      <td>...</td>\n",
       "      <td>...</td>\n",
       "      <td>...</td>\n",
       "      <td>...</td>\n",
       "      <td>...</td>\n",
       "      <td>...</td>\n",
       "    </tr>\n",
       "    <tr>\n",
       "      <th>70</th>\n",
       "      <td>t71</td>\n",
       "      <td>1</td>\n",
       "      <td>3175</td>\n",
       "      <td>831</td>\n",
       "      <td>8600</td>\n",
       "      <td>634</td>\n",
       "      <td>7479</td>\n",
       "      <td>42</td>\n",
       "      <td>11</td>\n",
       "    </tr>\n",
       "    <tr>\n",
       "      <th>71</th>\n",
       "      <td>t72</td>\n",
       "      <td>0</td>\n",
       "      <td>3501</td>\n",
       "      <td>500</td>\n",
       "      <td>8300</td>\n",
       "      <td>2396</td>\n",
       "      <td>6689</td>\n",
       "      <td>26</td>\n",
       "      <td>6</td>\n",
       "    </tr>\n",
       "    <tr>\n",
       "      <th>72</th>\n",
       "      <td>t73</td>\n",
       "      <td>1</td>\n",
       "      <td>6049</td>\n",
       "      <td>2521</td>\n",
       "      <td>10200</td>\n",
       "      <td>874</td>\n",
       "      <td>15237</td>\n",
       "      <td>56</td>\n",
       "      <td>8</td>\n",
       "    </tr>\n",
       "    <tr>\n",
       "      <th>73</th>\n",
       "      <td>t74</td>\n",
       "      <td>0</td>\n",
       "      <td>4859</td>\n",
       "      <td>2967</td>\n",
       "      <td>6800</td>\n",
       "      <td>3961</td>\n",
       "      <td>7734</td>\n",
       "      <td>42</td>\n",
       "      <td>6</td>\n",
       "    </tr>\n",
       "    <tr>\n",
       "      <th>74</th>\n",
       "      <td>t75</td>\n",
       "      <td>1</td>\n",
       "      <td>2095</td>\n",
       "      <td>974</td>\n",
       "      <td>7400</td>\n",
       "      <td>500</td>\n",
       "      <td>17180</td>\n",
       "      <td>32</td>\n",
       "      <td>6</td>\n",
       "    </tr>\n",
       "    <tr>\n",
       "      <th>75</th>\n",
       "      <td>t76</td>\n",
       "      <td>1</td>\n",
       "      <td>7110</td>\n",
       "      <td>3630</td>\n",
       "      <td>7600</td>\n",
       "      <td>2892</td>\n",
       "      <td>8481</td>\n",
       "      <td>18</td>\n",
       "      <td>0</td>\n",
       "    </tr>\n",
       "    <tr>\n",
       "      <th>76</th>\n",
       "      <td>t77</td>\n",
       "      <td>1</td>\n",
       "      <td>9364</td>\n",
       "      <td>4467</td>\n",
       "      <td>8500</td>\n",
       "      <td>2251</td>\n",
       "      <td>13661</td>\n",
       "      <td>33</td>\n",
       "      <td>15</td>\n",
       "    </tr>\n",
       "    <tr>\n",
       "      <th>77</th>\n",
       "      <td>t78</td>\n",
       "      <td>1</td>\n",
       "      <td>5526</td>\n",
       "      <td>3958</td>\n",
       "      <td>6900</td>\n",
       "      <td>2448</td>\n",
       "      <td>8606</td>\n",
       "      <td>18</td>\n",
       "      <td>0</td>\n",
       "    </tr>\n",
       "    <tr>\n",
       "      <th>78</th>\n",
       "      <td>t79</td>\n",
       "      <td>0</td>\n",
       "      <td>1740</td>\n",
       "      <td>500</td>\n",
       "      <td>7500</td>\n",
       "      <td>1879</td>\n",
       "      <td>7815</td>\n",
       "      <td>23</td>\n",
       "      <td>5</td>\n",
       "    </tr>\n",
       "    <tr>\n",
       "      <th>79</th>\n",
       "      <td>t80</td>\n",
       "      <td>1</td>\n",
       "      <td>3064</td>\n",
       "      <td>829</td>\n",
       "      <td>9900</td>\n",
       "      <td>500</td>\n",
       "      <td>10491</td>\n",
       "      <td>46</td>\n",
       "      <td>15</td>\n",
       "    </tr>\n",
       "    <tr>\n",
       "      <th>80</th>\n",
       "      <td>t81</td>\n",
       "      <td>1</td>\n",
       "      <td>4536</td>\n",
       "      <td>1967</td>\n",
       "      <td>9200</td>\n",
       "      <td>2323</td>\n",
       "      <td>18557</td>\n",
       "      <td>43</td>\n",
       "      <td>12</td>\n",
       "    </tr>\n",
       "    <tr>\n",
       "      <th>81</th>\n",
       "      <td>t82</td>\n",
       "      <td>1</td>\n",
       "      <td>5607</td>\n",
       "      <td>4050</td>\n",
       "      <td>13400</td>\n",
       "      <td>2459</td>\n",
       "      <td>21752</td>\n",
       "      <td>29</td>\n",
       "      <td>11</td>\n",
       "    </tr>\n",
       "    <tr>\n",
       "      <th>82</th>\n",
       "      <td>t83</td>\n",
       "      <td>1</td>\n",
       "      <td>4554</td>\n",
       "      <td>766</td>\n",
       "      <td>7200</td>\n",
       "      <td>1927</td>\n",
       "      <td>10473</td>\n",
       "      <td>35</td>\n",
       "      <td>17</td>\n",
       "    </tr>\n",
       "    <tr>\n",
       "      <th>83</th>\n",
       "      <td>t84</td>\n",
       "      <td>1</td>\n",
       "      <td>6000</td>\n",
       "      <td>4224</td>\n",
       "      <td>7900</td>\n",
       "      <td>1545</td>\n",
       "      <td>12686</td>\n",
       "      <td>46</td>\n",
       "      <td>14</td>\n",
       "    </tr>\n",
       "    <tr>\n",
       "      <th>84</th>\n",
       "      <td>t85</td>\n",
       "      <td>1</td>\n",
       "      <td>4306</td>\n",
       "      <td>3061</td>\n",
       "      <td>5800</td>\n",
       "      <td>764</td>\n",
       "      <td>85699</td>\n",
       "      <td>40</td>\n",
       "      <td>16</td>\n",
       "    </tr>\n",
       "    <tr>\n",
       "      <th>85</th>\n",
       "      <td>t86</td>\n",
       "      <td>0</td>\n",
       "      <td>1869</td>\n",
       "      <td>723</td>\n",
       "      <td>4300</td>\n",
       "      <td>896</td>\n",
       "      <td>4512</td>\n",
       "      <td>37</td>\n",
       "      <td>3</td>\n",
       "    </tr>\n",
       "    <tr>\n",
       "      <th>86</th>\n",
       "      <td>t87</td>\n",
       "      <td>1</td>\n",
       "      <td>3396</td>\n",
       "      <td>1250</td>\n",
       "      <td>10200</td>\n",
       "      <td>1811</td>\n",
       "      <td>18662</td>\n",
       "      <td>36</td>\n",
       "      <td>18</td>\n",
       "    </tr>\n",
       "    <tr>\n",
       "      <th>87</th>\n",
       "      <td>t88</td>\n",
       "      <td>1</td>\n",
       "      <td>8636</td>\n",
       "      <td>4358</td>\n",
       "      <td>12700</td>\n",
       "      <td>3841</td>\n",
       "      <td>19145</td>\n",
       "      <td>22</td>\n",
       "      <td>4</td>\n",
       "    </tr>\n",
       "    <tr>\n",
       "      <th>88</th>\n",
       "      <td>t89</td>\n",
       "      <td>1</td>\n",
       "      <td>5322</td>\n",
       "      <td>1596</td>\n",
       "      <td>6900</td>\n",
       "      <td>1943</td>\n",
       "      <td>15582</td>\n",
       "      <td>21</td>\n",
       "      <td>3</td>\n",
       "    </tr>\n",
       "    <tr>\n",
       "      <th>89</th>\n",
       "      <td>t90</td>\n",
       "      <td>1</td>\n",
       "      <td>4371</td>\n",
       "      <td>1819</td>\n",
       "      <td>9200</td>\n",
       "      <td>1532</td>\n",
       "      <td>10739</td>\n",
       "      <td>22</td>\n",
       "      <td>4</td>\n",
       "    </tr>\n",
       "    <tr>\n",
       "      <th>90</th>\n",
       "      <td>t91</td>\n",
       "      <td>0</td>\n",
       "      <td>3303</td>\n",
       "      <td>3926</td>\n",
       "      <td>11900</td>\n",
       "      <td>3218</td>\n",
       "      <td>10456</td>\n",
       "      <td>58</td>\n",
       "      <td>3</td>\n",
       "    </tr>\n",
       "    <tr>\n",
       "      <th>91</th>\n",
       "      <td>t92</td>\n",
       "      <td>1</td>\n",
       "      <td>8888</td>\n",
       "      <td>5706</td>\n",
       "      <td>10800</td>\n",
       "      <td>3330</td>\n",
       "      <td>11527</td>\n",
       "      <td>43</td>\n",
       "      <td>19</td>\n",
       "    </tr>\n",
       "    <tr>\n",
       "      <th>92</th>\n",
       "      <td>t93</td>\n",
       "      <td>0</td>\n",
       "      <td>3286</td>\n",
       "      <td>2627</td>\n",
       "      <td>9900</td>\n",
       "      <td>3276</td>\n",
       "      <td>9141</td>\n",
       "      <td>45</td>\n",
       "      <td>6</td>\n",
       "    </tr>\n",
       "    <tr>\n",
       "      <th>93</th>\n",
       "      <td>t94</td>\n",
       "      <td>0</td>\n",
       "      <td>2634</td>\n",
       "      <td>3052</td>\n",
       "      <td>9100</td>\n",
       "      <td>2248</td>\n",
       "      <td>10681</td>\n",
       "      <td>25</td>\n",
       "      <td>2</td>\n",
       "    </tr>\n",
       "    <tr>\n",
       "      <th>94</th>\n",
       "      <td>t95</td>\n",
       "      <td>1</td>\n",
       "      <td>6533</td>\n",
       "      <td>3582</td>\n",
       "      <td>13200</td>\n",
       "      <td>1589</td>\n",
       "      <td>17287</td>\n",
       "      <td>42</td>\n",
       "      <td>22</td>\n",
       "    </tr>\n",
       "    <tr>\n",
       "      <th>95</th>\n",
       "      <td>t96</td>\n",
       "      <td>0</td>\n",
       "      <td>3382</td>\n",
       "      <td>2096</td>\n",
       "      <td>9500</td>\n",
       "      <td>4123</td>\n",
       "      <td>6599</td>\n",
       "      <td>25</td>\n",
       "      <td>4</td>\n",
       "    </tr>\n",
       "    <tr>\n",
       "      <th>96</th>\n",
       "      <td>t97</td>\n",
       "      <td>1</td>\n",
       "      <td>5207</td>\n",
       "      <td>2394</td>\n",
       "      <td>7400</td>\n",
       "      <td>2228</td>\n",
       "      <td>6540</td>\n",
       "      <td>24</td>\n",
       "      <td>6</td>\n",
       "    </tr>\n",
       "    <tr>\n",
       "      <th>97</th>\n",
       "      <td>t98</td>\n",
       "      <td>1</td>\n",
       "      <td>5957</td>\n",
       "      <td>3076</td>\n",
       "      <td>9100</td>\n",
       "      <td>2067</td>\n",
       "      <td>12129</td>\n",
       "      <td>40</td>\n",
       "      <td>12</td>\n",
       "    </tr>\n",
       "    <tr>\n",
       "      <th>98</th>\n",
       "      <td>t99</td>\n",
       "      <td>1</td>\n",
       "      <td>4671</td>\n",
       "      <td>2081</td>\n",
       "      <td>11400</td>\n",
       "      <td>869</td>\n",
       "      <td>11356</td>\n",
       "      <td>37</td>\n",
       "      <td>17</td>\n",
       "    </tr>\n",
       "    <tr>\n",
       "      <th>99</th>\n",
       "      <td>t100</td>\n",
       "      <td>1</td>\n",
       "      <td>5369</td>\n",
       "      <td>3604</td>\n",
       "      <td>10500</td>\n",
       "      <td>2096</td>\n",
       "      <td>11267</td>\n",
       "      <td>37</td>\n",
       "      <td>10</td>\n",
       "    </tr>\n",
       "  </tbody>\n",
       "</table>\n",
       "<p>99 rows × 9 columns</p>\n",
       "</div>"
      ],
      "text/plain": [
       "      ID  Default  income  expenditures  loan_amount  loan_installment  \\\n",
       "0     t1        1    7091          2715        10200              4663   \n",
       "1     t2        1    7760          2388        12200              3066   \n",
       "2     t3        1    3239          2315        10000              1022   \n",
       "4     t5        1    2889          1024         9600              1668   \n",
       "5     t6        1    6498          3192         6600              2461   \n",
       "6     t7        0    3057           979         7400              2679   \n",
       "7     t8        0    4104          1998         6400              2655   \n",
       "8     t9        0    3712          4721         8300              2001   \n",
       "9    t10        1    3991          1531         9500              1461   \n",
       "10   t11        1    6973          3781         8200              3334   \n",
       "11   t12        1    5261          4106        14500              1624   \n",
       "12   t13        1    6225          1631         8100              1694   \n",
       "13   t14        1    7317          3048        10500              4551   \n",
       "14   t15        1    3647          2046         8300              1354   \n",
       "15   t16        1    4829          1454        11400              2164   \n",
       "16   t17        1    5857          2611         8800              3654   \n",
       "17   t18        1    6433          3451        13300              1590   \n",
       "18   t19        0    2158          1500         4500              1736   \n",
       "19   t20        1    2391           803        11500               946   \n",
       "20   t21        0    1644           512         8500              1564   \n",
       "21   t22        0    1000           923         8100               780   \n",
       "22   t23        1   10284          2963         7800              6104   \n",
       "23   t24        1    4316          1493        10000              2068   \n",
       "24   t25        1    4262          2492         5000              2720   \n",
       "25   t26        1    5616          3987        14800              2235   \n",
       "26   t27        1    9839          3737         6000              7094   \n",
       "27   t28        1    2529          1371         2900              1069   \n",
       "28   t29        1    6511          2093         7700              3915   \n",
       "29   t30        1    1000           642         5000               619   \n",
       "30   t31        1    6542          3928        11500              4374   \n",
       "..   ...      ...     ...           ...          ...               ...   \n",
       "70   t71        1    3175           831         8600               634   \n",
       "71   t72        0    3501           500         8300              2396   \n",
       "72   t73        1    6049          2521        10200               874   \n",
       "73   t74        0    4859          2967         6800              3961   \n",
       "74   t75        1    2095           974         7400               500   \n",
       "75   t76        1    7110          3630         7600              2892   \n",
       "76   t77        1    9364          4467         8500              2251   \n",
       "77   t78        1    5526          3958         6900              2448   \n",
       "78   t79        0    1740           500         7500              1879   \n",
       "79   t80        1    3064           829         9900               500   \n",
       "80   t81        1    4536          1967         9200              2323   \n",
       "81   t82        1    5607          4050        13400              2459   \n",
       "82   t83        1    4554           766         7200              1927   \n",
       "83   t84        1    6000          4224         7900              1545   \n",
       "84   t85        1    4306          3061         5800               764   \n",
       "85   t86        0    1869           723         4300               896   \n",
       "86   t87        1    3396          1250        10200              1811   \n",
       "87   t88        1    8636          4358        12700              3841   \n",
       "88   t89        1    5322          1596         6900              1943   \n",
       "89   t90        1    4371          1819         9200              1532   \n",
       "90   t91        0    3303          3926        11900              3218   \n",
       "91   t92        1    8888          5706        10800              3330   \n",
       "92   t93        0    3286          2627         9900              3276   \n",
       "93   t94        0    2634          3052         9100              2248   \n",
       "94   t95        1    6533          3582        13200              1589   \n",
       "95   t96        0    3382          2096         9500              4123   \n",
       "96   t97        1    5207          2394         7400              2228   \n",
       "97   t98        1    5957          3076         9100              2067   \n",
       "98   t99        1    4671          2081        11400               869   \n",
       "99  t100        1    5369          3604        10500              2096   \n",
       "\n",
       "    Collateral_value  age  work_experience  \n",
       "0              13164   44               15  \n",
       "1              22787   43               21  \n",
       "2               9070   46               26  \n",
       "4              33165   44               15  \n",
       "5               8866   45               18  \n",
       "6               5059   20                2  \n",
       "7              17500   29                6  \n",
       "8               6371   20                2  \n",
       "9              11544   54               16  \n",
       "10             10125   57               24  \n",
       "11             39379   47               14  \n",
       "12             41210   27                9  \n",
       "13             20368   44               18  \n",
       "14              9627   38               15  \n",
       "15             14903   34               13  \n",
       "16             36451   38               17  \n",
       "17             32285   35               13  \n",
       "18              5578   18                0  \n",
       "19             17475   29                9  \n",
       "20              9265   19                1  \n",
       "21              8196   35                3  \n",
       "22              7285   31               13  \n",
       "23             62934   20                2  \n",
       "24              6775   36               18  \n",
       "25             17487   28               10  \n",
       "26              6320   31                7  \n",
       "27              5235   26                8  \n",
       "28             11965   44               20  \n",
       "29              4303   45               15  \n",
       "30             15516   44               12  \n",
       "..               ...  ...              ...  \n",
       "70              7479   42               11  \n",
       "71              6689   26                6  \n",
       "72             15237   56                8  \n",
       "73              7734   42                6  \n",
       "74             17180   32                6  \n",
       "75              8481   18                0  \n",
       "76             13661   33               15  \n",
       "77              8606   18                0  \n",
       "78              7815   23                5  \n",
       "79             10491   46               15  \n",
       "80             18557   43               12  \n",
       "81             21752   29               11  \n",
       "82             10473   35               17  \n",
       "83             12686   46               14  \n",
       "84             85699   40               16  \n",
       "85              4512   37                3  \n",
       "86             18662   36               18  \n",
       "87             19145   22                4  \n",
       "88             15582   21                3  \n",
       "89             10739   22                4  \n",
       "90             10456   58                3  \n",
       "91             11527   43               19  \n",
       "92              9141   45                6  \n",
       "93             10681   25                2  \n",
       "94             17287   42               22  \n",
       "95              6599   25                4  \n",
       "96              6540   24                6  \n",
       "97             12129   40               12  \n",
       "98             11356   37               17  \n",
       "99             11267   37               10  \n",
       "\n",
       "[99 rows x 9 columns]"
      ]
     },
     "execution_count": 337,
     "metadata": {},
     "output_type": "execute_result"
    }
   ],
   "source": [
    "data"
   ]
  },
  {
   "cell_type": "code",
   "execution_count": 257,
   "metadata": {
    "collapsed": false
   },
   "outputs": [
    {
     "data": {
      "text/plain": [
       "99"
      ]
     },
     "execution_count": 257,
     "metadata": {},
     "output_type": "execute_result"
    }
   ],
   "source": [
    "len(data)"
   ]
  },
  {
   "cell_type": "markdown",
   "metadata": {},
   "source": [
    "# How exp depend on income?"
   ]
  },
  {
   "cell_type": "code",
   "execution_count": 451,
   "metadata": {
    "collapsed": true
   },
   "outputs": [],
   "source": [
    "data = pd.read_csv('TrainingSample.csv',sep=';')\n",
    "data = data[data.age<130]\n",
    "data = data[data.work_experience>=0]"
   ]
  },
  {
   "cell_type": "code",
   "execution_count": 452,
   "metadata": {
    "collapsed": true
   },
   "outputs": [],
   "source": [
    "X = data['income'].values.reshape(len(data),1)"
   ]
  },
  {
   "cell_type": "code",
   "execution_count": 453,
   "metadata": {
    "collapsed": true
   },
   "outputs": [],
   "source": [
    "y = data['expenditures'].values.reshape(len(data),1)"
   ]
  },
  {
   "cell_type": "code",
   "execution_count": 454,
   "metadata": {
    "collapsed": false
   },
   "outputs": [
    {
     "data": {
      "text/plain": [
       "LinearRegression(copy_X=True, fit_intercept=True, n_jobs=1, normalize=True)"
      ]
     },
     "execution_count": 454,
     "metadata": {},
     "output_type": "execute_result"
    }
   ],
   "source": [
    "from sklearn.linear_model import LinearRegression\n",
    "LR = LinearRegression(fit_intercept=True, normalize=True, copy_X=True, n_jobs=1)\n",
    "LR.fit(X,y)"
   ]
  },
  {
   "cell_type": "code",
   "execution_count": 455,
   "metadata": {
    "collapsed": false
   },
   "outputs": [],
   "source": [
    "alpha = LR.coef_[0][0]"
   ]
  },
  {
   "cell_type": "code",
   "execution_count": 456,
   "metadata": {
    "collapsed": false
   },
   "outputs": [
    {
     "data": {
      "text/plain": [
       "0.45045903468191256"
      ]
     },
     "execution_count": 456,
     "metadata": {},
     "output_type": "execute_result"
    }
   ],
   "source": [
    "LR.coef_[0][0]"
   ]
  },
  {
   "cell_type": "markdown",
   "metadata": {},
   "source": [
    "Exp = 0.45*income + N(0,...)"
   ]
  },
  {
   "cell_type": "code",
   "execution_count": 457,
   "metadata": {
    "collapsed": true
   },
   "outputs": [],
   "source": [
    "for i in range(len(y)):\n",
    "    y[i] = y[i] - alpha*X[i]"
   ]
  },
  {
   "cell_type": "code",
   "execution_count": 458,
   "metadata": {
    "collapsed": false
   },
   "outputs": [],
   "source": [
    "y = np.sort(y.reshape(1,99)).reshape(99,1)"
   ]
  },
  {
   "cell_type": "code",
   "execution_count": 459,
   "metadata": {
    "collapsed": false
   },
   "outputs": [
    {
     "data": {
      "text/plain": [
       "<matplotlib.axes._subplots.AxesSubplot at 0x1141d8d10>"
      ]
     },
     "execution_count": 459,
     "metadata": {},
     "output_type": "execute_result"
    },
    {
     "data": {
      "image/png": "[encoded data removed]",
      "text/plain": [
       "<matplotlib.figure.Figure at 0x114666910>"
      ]
     },
     "metadata": {},
     "output_type": "display_data"
    }
   ],
   "source": [
    "pd.DataFrame(y).plot()"
   ]
  },
  {
   "cell_type": "code",
   "execution_count": 460,
   "metadata": {
    "collapsed": false
   },
   "outputs": [
    {
     "data": {
      "text/plain": [
       "<matplotlib.axes._subplots.AxesSubplot at 0x11458d350>"
      ]
     },
     "execution_count": 460,
     "metadata": {},
     "output_type": "execute_result"
    },
    {
     "data": {
      "image/png": "[encoded data removed]",
      "text/plain": [
       "<matplotlib.figure.Figure at 0x11468a950>"
      ]
     },
     "metadata": {},
     "output_type": "display_data"
    }
   ],
   "source": [
    "test = np.random.normal(size=(1,99))\n",
    "test = np.sort(test).reshape(99,1)\n",
    "pd.DataFrame(test).plot()"
   ]
  },
  {
   "cell_type": "markdown",
   "metadata": {},
   "source": [
    "# Now the same with age and work experience"
   ]
  },
  {
   "cell_type": "code",
   "execution_count": 707,
   "metadata": {
    "collapsed": true
   },
   "outputs": [],
   "source": [
    "data = pd.read_csv('TrainingSample.csv',sep=';')\n",
    "data = data[data.age<130]\n",
    "data = data[data.work_experience>=0]"
   ]
  },
  {
   "cell_type": "code",
   "execution_count": 708,
   "metadata": {
    "collapsed": false
   },
   "outputs": [
    {
     "name": "stdout",
     "output_type": "stream",
     "text": [
      "0.375775579424 [-3.1237251]\n"
     ]
    }
   ],
   "source": [
    "X = data['age'].values.reshape(len(data),1)\n",
    "for i in range(len(X)):\n",
    "    X[i] = X[i] - 18\n",
    "y = data['work_experience'].values.reshape(len(data),1)\n",
    "LR = LinearRegression(fit_intercept=True, normalize=True, copy_X=True, n_jobs=1)\n",
    "LR.fit(X,y)\n",
    "alpha2 = LR.coef_[0][0]\n",
    "print alpha2, LR.intercept_"
   ]
  },
  {
   "cell_type": "markdown",
   "metadata": {},
   "source": [
    "It seems to be quite random. Pointless"
   ]
  },
  {
   "cell_type": "markdown",
   "metadata": {},
   "source": [
    "# Amount vs Installment"
   ]
  },
  {
   "cell_type": "code",
   "execution_count": 602,
   "metadata": {
    "collapsed": true
   },
   "outputs": [],
   "source": [
    "data = pd.read_csv('TrainingSample.csv',sep=';')\n",
    "data = data[data.age<130]\n",
    "data = data[data.work_experience>=0]"
   ]
  },
  {
   "cell_type": "code",
   "execution_count": 604,
   "metadata": {
    "collapsed": false
   },
   "outputs": [
    {
     "name": "stdout",
     "output_type": "stream",
     "text": [
      "0.0474112387527\n",
      "[[ 0.04741124]]\n"
     ]
    }
   ],
   "source": [
    "X = data['Collateral_value'].values.reshape(len(data),1)\n",
    "y = data['loan_amount'].values.reshape(len(data),1)\n",
    "LR = LinearRegression(fit_intercept=True, normalize=False, copy_X=True, n_jobs=1)\n",
    "LR.fit(X,y)\n",
    "alpha2 = LR.coef_[0][0]\n",
    "print alpha2\n",
    "print LR.coef_"
   ]
  },
  {
   "cell_type": "code",
   "execution_count": 596,
   "metadata": {
    "collapsed": false
   },
   "outputs": [],
   "source": [
    "Z = np.zeros(len(X))\n",
    "for i in range(len(X)):\n",
    "    Z[i] = y[i] - alpha2*X[i]"
   ]
  },
  {
   "cell_type": "code",
   "execution_count": 599,
   "metadata": {
    "collapsed": false,
    "scrolled": true
   },
   "outputs": [
    {
     "data": {
      "text/plain": [
       "array([[10200],\n",
       "       [12200],\n",
       "       [10000],\n",
       "       [ 9600],\n",
       "       [ 6600],\n",
       "       [ 7400],\n",
       "       [ 6400],\n",
       "       [ 8300],\n",
       "       [ 9500],\n",
       "       [ 8200],\n",
       "       [14500],\n",
       "       [ 8100],\n",
       "       [10500],\n",
       "       [ 8300],\n",
       "       [11400],\n",
       "       [ 8800],\n",
       "       [13300],\n",
       "       [ 4500],\n",
       "       [11500],\n",
       "       [ 8500],\n",
       "       [ 8100],\n",
       "       [ 7800],\n",
       "       [10000],\n",
       "       [ 5000],\n",
       "       [14800],\n",
       "       [ 6000],\n",
       "       [ 2900],\n",
       "       [ 7700],\n",
       "       [ 5000],\n",
       "       [11500],\n",
       "       [ 6900],\n",
       "       [12600],\n",
       "       [ 4900],\n",
       "       [ 9000],\n",
       "       [ 6600],\n",
       "       [11400],\n",
       "       [ 4900],\n",
       "       [10300],\n",
       "       [ 9700],\n",
       "       [13400],\n",
       "       [10600],\n",
       "       [11100],\n",
       "       [ 8200],\n",
       "       [ 7500],\n",
       "       [15000],\n",
       "       [16300],\n",
       "       [ 7800],\n",
       "       [ 6900],\n",
       "       [ 8000],\n",
       "       [ 8600],\n",
       "       [12400],\n",
       "       [11100],\n",
       "       [ 9100],\n",
       "       [ 8800],\n",
       "       [10000],\n",
       "       [11200],\n",
       "       [17300],\n",
       "       [10700],\n",
       "       [14100],\n",
       "       [ 7500],\n",
       "       [ 7600],\n",
       "       [11600],\n",
       "       [ 2900],\n",
       "       [ 7900],\n",
       "       [ 9300],\n",
       "       [12900],\n",
       "       [10800],\n",
       "       [12600],\n",
       "       [10600],\n",
       "       [ 8600],\n",
       "       [ 8300],\n",
       "       [10200],\n",
       "       [ 6800],\n",
       "       [ 7400],\n",
       "       [ 7600],\n",
       "       [ 8500],\n",
       "       [ 6900],\n",
       "       [ 7500],\n",
       "       [ 9900],\n",
       "       [ 9200],\n",
       "       [13400],\n",
       "       [ 7200],\n",
       "       [ 7900],\n",
       "       [ 5800],\n",
       "       [ 4300],\n",
       "       [10200],\n",
       "       [12700],\n",
       "       [ 6900],\n",
       "       [ 9200],\n",
       "       [11900],\n",
       "       [10800],\n",
       "       [ 9900],\n",
       "       [ 9100],\n",
       "       [13200],\n",
       "       [ 9500],\n",
       "       [ 7400],\n",
       "       [ 9100],\n",
       "       [11400],\n",
       "       [10500]])"
      ]
     },
     "execution_count": 599,
     "metadata": {},
     "output_type": "execute_result"
    }
   ],
   "source": [
    "y"
   ]
  },
  {
   "cell_type": "markdown",
   "metadata": {},
   "source": [
    "# Let's change vars to exp-income and income. They're probably independent"
   ]
  },
  {
   "cell_type": "code",
   "execution_count": 513,
   "metadata": {
    "collapsed": true
   },
   "outputs": [],
   "source": [
    "alpha3 = 0.368601456472491\n",
    "alpha4 = -2.84978727246436"
   ]
  },
  {
   "cell_type": "code",
   "execution_count": 1090,
   "metadata": {
    "collapsed": false
   },
   "outputs": [],
   "source": [
    "data = pd.read_csv('TrainingSample.csv',sep=';')\n",
    "#data2 = pd.DataFrame(data.values[90:,:])\n",
    "#data2.columns = data.columns.values\n",
    "#data = pd.DataFrame(data = data.values[0:90,:])\n",
    "#data.columns = data2.columns.values\n",
    "for i in range(len(data)):\n",
    "    data.set_value(i,\"expenditures\",data.get_value(i,\"expenditures\") + data.get_value(i,\"loan_installment\")-alpha2*data.get_value(i,\"income\") - inter2)\n",
    "    data.set_value(i,\"loan_installment\",0)\n",
    "    #data.set_value(i,\"income\",0)\n",
    "    data.set_value(i,\"Collateral_value\",(data.get_value(i,\"Collateral_value\") / data.get_value(i,\"loan_amount\")) )\n",
    "    data.set_value(i,\"loan_amount\",0)\n",
    "    #data.set_value(i,\"work_experience\", 2*(int(data.get_value(i,\"work_experience\") - 0.37577*(data.get_value(i,\"age\") - 18) >= 0) -0.5) )\n",
    "    #data.set_value(i,\"age\",0)\n",
    "    #data.set_value(i,\"work_experience\", int(data.get_value(i,\"work_experience\") > 7))\n",
    "    #data.set_value(i,\"expenditures\",data.get_value(i,\"expenditures\")-alpha*data.get_value(i,\"income\"))\n",
    "    #data.set_value(i,\"work_experience\",data.get_value(i,\"work_experience\")-alpha2*(data.get_value(i,\"age\")-18))\n",
    "data = data[data['age']<130]\n",
    "data = data[data['work_experience']>=0]"
   ]
  },
  {
   "cell_type": "code",
   "execution_count": 1091,
   "metadata": {
    "collapsed": false
   },
   "outputs": [
    {
     "data": {
      "text/plain": [
       "LinearRegression(copy_X=True, fit_intercept=True, n_jobs=1, normalize=True)"
      ]
     },
     "execution_count": 1091,
     "metadata": {},
     "output_type": "execute_result"
    }
   ],
   "source": [
    "X = data.ix[:,2:]\n",
    "y = data.ix[:,1]\n",
    "LR = LinearRegression(fit_intercept=True, normalize=True, copy_X=True, n_jobs=1)\n",
    "LR.fit(X,y)"
   ]
  },
  {
   "cell_type": "code",
   "execution_count": 1092,
   "metadata": {
    "collapsed": false
   },
   "outputs": [],
   "source": [
    "data2 = pd.read_csv('ValidationSample.csv',sep=';')\n",
    "data2 = data2[data2.age<130]\n",
    "data2 = data2[data2.work_experience>=0]\n",
    "for i in range(len(data2)):\n",
    "    data2.set_value(i,\"expenditures\",data2.get_value(i,\"expenditures\") + data2.get_value(i,\"loan_installment\")-alpha2*data2.get_value(i,\"income\") - inter2)\n",
    "    data2.set_value(i,\"loan_installment\",0)\n",
    "    #data2.set_value(i,\"income\",0)\n",
    "    data2.set_value(i,\"Collateral_value\",(data2.get_value(i,\"Collateral_value\") / data2.get_value(i,\"loan_amount\")))\n",
    "    data2.set_value(i,\"loan_amount\",0)\n",
    "    #data2.set_value(i,\"work_experience\", 2*(int(data2.get_value(i,\"work_experience\") - 0.37577*(data2.get_value(i,\"age\") - 18) >= 0) -0.5) )\n",
    "    #data2.set_value(i,\"age\",0)\n",
    "    #data2.set_value(i,\"work_experience\", int(data.get_value(i,\"work_experience\") > 7))\n",
    "    #data2.set_value(i,\"expenditures\",data2.get_value(i,\"expenditures\")-alpha*data2.get_value(i,\"income\"))\n",
    "    #data2.set_value(i,\"work_experience\",data2.get_value(i,\"work_experience\")-alpha2*(data2.get_value(i,\"age\")-18))\n",
    "\n",
    "X_new = data2.ix[:,2:]\n",
    "y_new = data2.ix[:,1]\n",
    "y_pred = LR.predict(X_new)\n",
    "for i in range(len(y_pred)):\n",
    "    if y_pred[i]>=0.5:\n",
    "        y_pred[i] = 1;\n",
    "    else:\n",
    "        y_pred[i]=0;"
   ]
  },
  {
   "cell_type": "code",
   "execution_count": 1093,
   "metadata": {
    "collapsed": false
   },
   "outputs": [
    {
     "name": "stdout",
     "output_type": "stream",
     "text": [
      "97 3\n"
     ]
    }
   ],
   "source": [
    "f = 0\n",
    "t = 0\n",
    "for i in range(len(data2)):\n",
    "    if y_pred[i] == y_new[i]:\n",
    "        f = f+1\n",
    "print f , 100-f"
   ]
  },
  {
   "cell_type": "code",
   "execution_count": 1036,
   "metadata": {
    "collapsed": false
   },
   "outputs": [
    {
     "data": {
      "text/html": [
       "<div>\n",
       "<table border=\"1\" class=\"dataframe\">\n",
       "  <thead>\n",
       "    <tr style=\"text-align: right;\">\n",
       "      <th></th>\n",
       "      <th>income</th>\n",
       "      <th>expenditures</th>\n",
       "      <th>loan_amount</th>\n",
       "      <th>loan_installment</th>\n",
       "      <th>Collateral_value</th>\n",
       "      <th>age</th>\n",
       "      <th>work_experience</th>\n",
       "    </tr>\n",
       "  </thead>\n",
       "  <tbody>\n",
       "    <tr>\n",
       "      <th>income</th>\n",
       "      <td>1.000000</td>\n",
       "      <td>-0.017718</td>\n",
       "      <td>NaN</td>\n",
       "      <td>NaN</td>\n",
       "      <td>0.216247</td>\n",
       "      <td>NaN</td>\n",
       "      <td>0.274490</td>\n",
       "    </tr>\n",
       "    <tr>\n",
       "      <th>expenditures</th>\n",
       "      <td>-0.017718</td>\n",
       "      <td>1.000000</td>\n",
       "      <td>NaN</td>\n",
       "      <td>NaN</td>\n",
       "      <td>0.025498</td>\n",
       "      <td>NaN</td>\n",
       "      <td>-0.106681</td>\n",
       "    </tr>\n",
       "    <tr>\n",
       "      <th>loan_amount</th>\n",
       "      <td>NaN</td>\n",
       "      <td>NaN</td>\n",
       "      <td>NaN</td>\n",
       "      <td>NaN</td>\n",
       "      <td>NaN</td>\n",
       "      <td>NaN</td>\n",
       "      <td>NaN</td>\n",
       "    </tr>\n",
       "    <tr>\n",
       "      <th>loan_installment</th>\n",
       "      <td>NaN</td>\n",
       "      <td>NaN</td>\n",
       "      <td>NaN</td>\n",
       "      <td>NaN</td>\n",
       "      <td>NaN</td>\n",
       "      <td>NaN</td>\n",
       "      <td>NaN</td>\n",
       "    </tr>\n",
       "    <tr>\n",
       "      <th>Collateral_value</th>\n",
       "      <td>0.216247</td>\n",
       "      <td>0.025498</td>\n",
       "      <td>NaN</td>\n",
       "      <td>NaN</td>\n",
       "      <td>1.000000</td>\n",
       "      <td>NaN</td>\n",
       "      <td>0.122582</td>\n",
       "    </tr>\n",
       "    <tr>\n",
       "      <th>age</th>\n",
       "      <td>NaN</td>\n",
       "      <td>NaN</td>\n",
       "      <td>NaN</td>\n",
       "      <td>NaN</td>\n",
       "      <td>NaN</td>\n",
       "      <td>NaN</td>\n",
       "      <td>NaN</td>\n",
       "    </tr>\n",
       "    <tr>\n",
       "      <th>work_experience</th>\n",
       "      <td>0.274490</td>\n",
       "      <td>-0.106681</td>\n",
       "      <td>NaN</td>\n",
       "      <td>NaN</td>\n",
       "      <td>0.122582</td>\n",
       "      <td>NaN</td>\n",
       "      <td>1.000000</td>\n",
       "    </tr>\n",
       "  </tbody>\n",
       "</table>\n",
       "</div>"
      ],
      "text/plain": [
       "                    income  expenditures  loan_amount  loan_installment  \\\n",
       "income            1.000000     -0.017718          NaN               NaN   \n",
       "expenditures     -0.017718      1.000000          NaN               NaN   \n",
       "loan_amount            NaN           NaN          NaN               NaN   \n",
       "loan_installment       NaN           NaN          NaN               NaN   \n",
       "Collateral_value  0.216247      0.025498          NaN               NaN   \n",
       "age                    NaN           NaN          NaN               NaN   \n",
       "work_experience   0.274490     -0.106681          NaN               NaN   \n",
       "\n",
       "                  Collateral_value  age  work_experience  \n",
       "income                    0.216247  NaN         0.274490  \n",
       "expenditures              0.025498  NaN        -0.106681  \n",
       "loan_amount                    NaN  NaN              NaN  \n",
       "loan_installment               NaN  NaN              NaN  \n",
       "Collateral_value          1.000000  NaN         0.122582  \n",
       "age                            NaN  NaN              NaN  \n",
       "work_experience           0.122582  NaN         1.000000  "
      ]
     },
     "execution_count": 1036,
     "metadata": {},
     "output_type": "execute_result"
    }
   ],
   "source": [
    "names = data.columns.values[2:]\n",
    "from scipy.stats import spearmanr\n",
    "for i in range(7):\n",
    "    for j in range(7):\n",
    "        correlation.itemset(i,j,spearmanr(data[names[j]],data[names[i]])[0])\n",
    "pd.DataFrame(correlation,index=names, columns=names)"
   ]
  },
  {
   "cell_type": "markdown",
   "metadata": {},
   "source": [
    "And this gives NO effect to the result."
   ]
  },
  {
   "cell_type": "code",
   "execution_count": 1004,
   "metadata": {
    "collapsed": false
   },
   "outputs": [
    {
     "data": {
      "text/plain": [
       "0.81874286866708823"
      ]
     },
     "execution_count": 1004,
     "metadata": {},
     "output_type": "execute_result"
    }
   ],
   "source": [
    "alpha2"
   ]
  },
  {
   "cell_type": "code",
   "execution_count": 703,
   "metadata": {
    "collapsed": false
   },
   "outputs": [
    {
     "data": {
      "text/plain": [
       "array([  1.65323433e-04,  -1.21173405e-04,   9.57362684e-06,\n",
       "         1.27576517e-16,   3.55704288e-06,  -7.72477131e-04,\n",
       "         2.07733384e-02])"
      ]
     },
     "execution_count": 703,
     "metadata": {},
     "output_type": "execute_result"
    }
   ],
   "source": [
    "LR.coef_"
   ]
  },
  {
   "cell_type": "code",
   "execution_count": 645,
   "metadata": {
    "collapsed": false
   },
   "outputs": [
    {
     "data": {
      "text/html": [
       "<div>\n",
       "<table border=\"1\" class=\"dataframe\">\n",
       "  <thead>\n",
       "    <tr style=\"text-align: right;\">\n",
       "      <th></th>\n",
       "      <th>income</th>\n",
       "      <th>expenditures</th>\n",
       "      <th>loan_amount</th>\n",
       "      <th>loan_installment</th>\n",
       "      <th>Collateral_value</th>\n",
       "      <th>age</th>\n",
       "      <th>work_experience</th>\n",
       "    </tr>\n",
       "  </thead>\n",
       "  <tbody>\n",
       "    <tr>\n",
       "      <th>income</th>\n",
       "      <td>1.000000</td>\n",
       "      <td>0.683205</td>\n",
       "      <td>0.208848</td>\n",
       "      <td>0.589286</td>\n",
       "      <td>0.135607</td>\n",
       "      <td>0.054639</td>\n",
       "      <td>0.281157</td>\n",
       "    </tr>\n",
       "    <tr>\n",
       "      <th>expenditures</th>\n",
       "      <td>0.683205</td>\n",
       "      <td>1.000000</td>\n",
       "      <td>0.253553</td>\n",
       "      <td>0.341564</td>\n",
       "      <td>0.108875</td>\n",
       "      <td>0.126210</td>\n",
       "      <td>0.149087</td>\n",
       "    </tr>\n",
       "    <tr>\n",
       "      <th>loan_amount</th>\n",
       "      <td>0.208848</td>\n",
       "      <td>0.253553</td>\n",
       "      <td>1.000000</td>\n",
       "      <td>0.023853</td>\n",
       "      <td>0.298535</td>\n",
       "      <td>0.153923</td>\n",
       "      <td>0.111667</td>\n",
       "    </tr>\n",
       "    <tr>\n",
       "      <th>loan_installment</th>\n",
       "      <td>0.589286</td>\n",
       "      <td>0.341564</td>\n",
       "      <td>0.023853</td>\n",
       "      <td>1.000000</td>\n",
       "      <td>-0.054245</td>\n",
       "      <td>0.005064</td>\n",
       "      <td>0.075600</td>\n",
       "    </tr>\n",
       "    <tr>\n",
       "      <th>Collateral_value</th>\n",
       "      <td>0.135607</td>\n",
       "      <td>0.108875</td>\n",
       "      <td>0.298535</td>\n",
       "      <td>-0.054245</td>\n",
       "      <td>1.000000</td>\n",
       "      <td>-0.087810</td>\n",
       "      <td>-0.041841</td>\n",
       "    </tr>\n",
       "    <tr>\n",
       "      <th>age</th>\n",
       "      <td>0.054639</td>\n",
       "      <td>0.126210</td>\n",
       "      <td>0.153923</td>\n",
       "      <td>0.005064</td>\n",
       "      <td>-0.087810</td>\n",
       "      <td>1.000000</td>\n",
       "      <td>0.672987</td>\n",
       "    </tr>\n",
       "    <tr>\n",
       "      <th>work_experience</th>\n",
       "      <td>0.281157</td>\n",
       "      <td>0.149087</td>\n",
       "      <td>0.111667</td>\n",
       "      <td>0.075600</td>\n",
       "      <td>-0.041841</td>\n",
       "      <td>0.672987</td>\n",
       "      <td>1.000000</td>\n",
       "    </tr>\n",
       "  </tbody>\n",
       "</table>\n",
       "</div>"
      ],
      "text/plain": [
       "                    income  expenditures  loan_amount  loan_installment  \\\n",
       "income            1.000000      0.683205     0.208848          0.589286   \n",
       "expenditures      0.683205      1.000000     0.253553          0.341564   \n",
       "loan_amount       0.208848      0.253553     1.000000          0.023853   \n",
       "loan_installment  0.589286      0.341564     0.023853          1.000000   \n",
       "Collateral_value  0.135607      0.108875     0.298535         -0.054245   \n",
       "age               0.054639      0.126210     0.153923          0.005064   \n",
       "work_experience   0.281157      0.149087     0.111667          0.075600   \n",
       "\n",
       "                  Collateral_value       age  work_experience  \n",
       "income                    0.135607  0.054639         0.281157  \n",
       "expenditures              0.108875  0.126210         0.149087  \n",
       "loan_amount               0.298535  0.153923         0.111667  \n",
       "loan_installment         -0.054245  0.005064         0.075600  \n",
       "Collateral_value          1.000000 -0.087810        -0.041841  \n",
       "age                      -0.087810  1.000000         0.672987  \n",
       "work_experience          -0.041841  0.672987         1.000000  "
      ]
     },
     "execution_count": 645,
     "metadata": {},
     "output_type": "execute_result"
    }
   ],
   "source": [
    "from scipy.stats import pearsonr\n",
    "for i in range(7):\n",
    "    for j in range(7):\n",
    "        correlation.itemset(i,j,pearsonr(data[names[j]],data[names[i]])[0])\n",
    "pd.DataFrame(correlation,index=names, columns=names)"
   ]
  },
  {
   "cell_type": "code",
   "execution_count": 673,
   "metadata": {
    "collapsed": false
   },
   "outputs": [],
   "source": [
    "data = pd.read_csv('TrainingSample.csv',sep=';')\n",
    "data = data[data['age']<130]"
   ]
  },
  {
   "cell_type": "code",
   "execution_count": 680,
   "metadata": {
    "collapsed": false
   },
   "outputs": [
    {
     "name": "stdout",
     "output_type": "stream",
     "text": [
      "0\n",
      "1\n",
      "2\n",
      "3\n",
      "4\n",
      "5\n",
      "6\n",
      "7\n"
     ]
    }
   ],
   "source": [
    "for i in range(8):\n",
    "    print i"
   ]
  },
  {
   "cell_type": "code",
   "execution_count": 689,
   "metadata": {
    "collapsed": false,
    "scrolled": true
   },
   "outputs": [
    {
     "data": {
      "image/png": "[encoded data removed]",
      "text/plain": [
       "<matplotlib.figure.Figure at 0x119a33ed0>"
      ]
     },
     "metadata": {},
     "output_type": "display_data"
    },
    {
     "data": {
      "image/png": "[encoded data removed]",
      "text/plain": [
       "<matplotlib.figure.Figure at 0x118e71c90>"
      ]
     },
     "metadata": {},
     "output_type": "display_data"
    },
    {
     "data": {
      "image/png": "[encoded data removed]",
      "text/plain": [
       "<matplotlib.figure.Figure at 0x118bc06d0>"
      ]
     },
     "metadata": {},
     "output_type": "display_data"
    },
    {
     "data": {
      "image/png": "[encoded data removed]",
      "text/plain": [
       "<matplotlib.figure.Figure at 0x116315750>"
      ]
     },
     "metadata": {},
     "output_type": "display_data"
    },
    {
     "data": {
      "image/png": "[encoded data removed]",
      "text/plain": [
       "<matplotlib.figure.Figure at 0x116539f50>"
      ]
     },
     "metadata": {},
     "output_type": "display_data"
    },
    {
     "data": {
      "image/png": "[encoded data removed]",
      "text/plain": [
       "<matplotlib.figure.Figure at 0x116365ed0>"
      ]
     },
     "metadata": {},
     "output_type": "display_data"
    },
    {
     "data": {
      "image/png": "[encoded data removed]",
      "text/plain": [
       "<matplotlib.figure.Figure at 0x117f535d0>"
      ]
     },
     "metadata": {},
     "output_type": "display_data"
    },
    {
     "data": {
      "image/png": "[encoded data removed]",
      "text/plain": [
       "<matplotlib.figure.Figure at 0x117974810>"
      ]
     },
     "metadata": {},
     "output_type": "display_data"
    },
    {
     "data": {
      "image/png": "[encoded data removed]",
      "text/plain": [
       "<matplotlib.figure.Figure at 0x117179350>"
      ]
     },
     "metadata": {},
     "output_type": "display_data"
    },
    {
     "data": {
      "image/png": "[encoded data removed]",
      "text/plain": [
       "<matplotlib.figure.Figure at 0x1156dfc50>"
      ]
     },
     "metadata": {},
     "output_type": "display_data"
    },
    {
     "data": {
      "image/png": "[encoded data removed]",
      "text/plain": [
       "<matplotlib.figure.Figure at 0x118e64ad0>"
      ]
     },
     "metadata": {},
     "output_type": "display_data"
    },
    {
     "data": {
      "image/png": "[encoded data removed]",
      "text/plain": [
       "<matplotlib.figure.Figure at 0x117ac9ed0>"
      ]
     },
     "metadata": {},
     "output_type": "display_data"
    },
    {
     "data": {
      "image/png": "[encoded data removed]",
      "text/plain": [
       "<matplotlib.figure.Figure at 0x118d42fd0>"
      ]
     },
     "metadata": {},
     "output_type": "display_data"
    },
    {
     "data": {
      "image/png": "[encoded data removed]",
      "text/plain": [
       "<matplotlib.figure.Figure at 0x115abcc90>"
      ]
     },
     "metadata": {},
     "output_type": "display_data"
    },
    {
     "data": {
      "image/png": "[encoded data removed]",
      "text/plain": [
       "<matplotlib.figure.Figure at 0x115260f50>"
      ]
     },
     "metadata": {},
     "output_type": "display_data"
    },
    {
     "data": {
      "image/png": "[encoded data removed]",
      "text/plain": [
       "<matplotlib.figure.Figure at 0x118f26510>"
      ]
     },
     "metadata": {},
     "output_type": "display_data"
    },
    {
     "data": {
      "image/png": "[encoded data removed]",
      "text/plain": [
       "<matplotlib.figure.Figure at 0x11711a990>"
      ]
     },
     "metadata": {},
     "output_type": "display_data"
    },
    {
     "data": {
      "image/png": "[encoded data removed]",
      "text/plain": [
       "<matplotlib.figure.Figure at 0x114ba5650>"
      ]
     },
     "metadata": {},
     "output_type": "display_data"
    },
    {
     "data": {
      "image/png": "[encoded data removed]",
      "text/plain": [
       "<matplotlib.figure.Figure at 0x114e53690>"
      ]
     },
     "metadata": {},
     "output_type": "display_data"
    },
    {
     "data": {
      "image/png": "[encoded data removed]",
      "text/plain": [
       "<matplotlib.figure.Figure at 0x114d82a10>"
      ]
     },
     "metadata": {},
     "output_type": "display_data"
    },
    {
     "data": {
      "image/png": "[encoded data removed]",
      "text/plain": [
       "<matplotlib.figure.Figure at 0x117fc5210>"
      ]
     },
     "metadata": {},
     "output_type": "display_data"
    }
   ],
   "source": [
    "names = data.columns.values\n",
    "index = 0;\n",
    "for i in range(2,9):\n",
    "    for j in range(i+1,9):\n",
    "        if i!=j:\n",
    "            plt.figure(index)\n",
    "            plt.scatter(data.ix[:,i],data.ix[:,j])\n",
    "            plt.text(0,0,names[i]+' and '+names[j])\n",
    "            index = index + 1"
   ]
  },
  {
   "cell_type": "code",
   "execution_count": 613,
   "metadata": {
    "collapsed": false
   },
   "outputs": [
    {
     "data": {
      "text/plain": [
       "array(['ID', 'Default', 'income', 'expenditures', 'loan_amount',\n",
       "       'loan_installment', 'Collateral_value', 'age', 'work_experience'], dtype=object)"
      ]
     },
     "execution_count": 613,
     "metadata": {},
     "output_type": "execute_result"
    }
   ],
   "source": [
    "data.columns.values"
   ]
  },
  {
   "cell_type": "code",
   "execution_count": 617,
   "metadata": {
    "collapsed": false,
    "scrolled": true
   },
   "outputs": [],
   "source": [
    "X = data.ix[:,4]\n",
    "Y = data.ix[:,6]\n",
    "for i in length(X):\n",
    "    "
   ]
  },
  {
   "cell_type": "code",
   "execution_count": 618,
   "metadata": {
    "collapsed": true
   },
   "outputs": [],
   "source": [
    "data = pd.read_csv('TrainingSample.csv',sep=';')\n",
    "data = data[data.age<130]\n",
    "data = data[data.work_experience>=0]"
   ]
  },
  {
   "cell_type": "code",
   "execution_count": 619,
   "metadata": {
    "collapsed": false
   },
   "outputs": [
    {
     "name": "stdout",
     "output_type": "stream",
     "text": [
      "0.0474112387527\n",
      "[[ 0.04741124]]\n"
     ]
    }
   ],
   "source": [
    "X = data['Collateral_value'].values.reshape(len(data),1)\n",
    "y = data['loan_amount'].values.reshape(len(data),1)\n",
    "LR = LinearRegression(fit_intercept=True, normalize=False, copy_X=True, n_jobs=1)\n",
    "LR.fit(X,y)\n",
    "alpha2 = LR.coef_[0][0]\n",
    "print alpha2\n",
    "print LR.coef_"
   ]
  },
  {
   "cell_type": "code",
   "execution_count": 625,
   "metadata": {
    "collapsed": false
   },
   "outputs": [],
   "source": [
    "Z = zeros(len(X))\n",
    "for i in range(len(X)):\n",
    "    Z[i] = -alpha2*X[i]+y[i]"
   ]
  },
  {
   "cell_type": "code",
   "execution_count": 641,
   "metadata": {
    "collapsed": false
   },
   "outputs": [
    {
     "name": "stdout",
     "output_type": "stream",
     "text": [
      "0    8549.471394\n",
      "dtype: float64\n",
      "0    2647.62301\n",
      "dtype: float64\n"
     ]
    }
   ],
   "source": [
    "Z = np.sort(Z)\n",
    "print pd.DataFrame(Z).mean()\n",
    "print pd.DataFrame(Z).std()\n",
    "Z2 = np.random.normal(loc = pd.DataFrame(Z).mean() , scale = pd.DataFrame(Z).std() , size = (1,99))\n",
    "Z2 = np.sort(Z2).reshape((99,1))"
   ]
  },
  {
   "cell_type": "code",
   "execution_count": 644,
   "metadata": {
    "collapsed": false
   },
   "outputs": [
    {
     "data": {
      "text/plain": [
       "<function matplotlib.pyplot.show>"
      ]
     },
     "execution_count": 644,
     "metadata": {},
     "output_type": "execute_result"
    },
    {
     "data": {
      "text/plain": [
       "<matplotlib.figure.Figure at 0x115aa78d0>"
      ]
     },
     "metadata": {},
     "output_type": "display_data"
    },
    {
     "data": {
      "image/png": "[encoded data removed]",
      "text/plain": [
       "<matplotlib.figure.Figure at 0x115627f50>"
      ]
     },
     "metadata": {},
     "output_type": "display_data"
    },
    {
     "data": {
      "image/png": "[encoded data removed]",
      "text/plain": [
       "<matplotlib.figure.Figure at 0x115a32e50>"
      ]
     },
     "metadata": {},
     "output_type": "display_data"
    }
   ],
   "source": [
    "plt.figure(1)\n",
    "pd.DataFrame(Z).plot()\n",
    "plt.figure(2)\n",
    "pd.DataFrame(Z2).plot()\n",
    "plt.show"
   ]
  },
  {
   "cell_type": "code",
   "execution_count": 742,
   "metadata": {
    "collapsed": false
   },
   "outputs": [
    {
     "name": "stdout",
     "output_type": "stream",
     "text": [
      "(array([ 0.77824231]), array([  2.58931533e-21]))\n",
      "0.818742868667\n",
      "[[ 0.81874287]]\n",
      "[ 766.63991914]\n"
     ]
    }
   ],
   "source": [
    "data = pd.read_csv('TrainingSample.csv',sep=';')\n",
    "data = data[data.age<130]\n",
    "data = data[data.work_experience>=0]\n",
    "\n",
    "X = data['income'].values.reshape(len(data),1)\n",
    "z = data['loan_installment'].values.reshape(len(data),1)\n",
    "y = data['expenditures'].values.reshape(len(data),1)\n",
    "for i in range(len(z)):\n",
    "    y[i] = y[i] + z[i];\n",
    "print pearsonr(X,y)\n",
    "LR = LinearRegression(fit_intercept=True, normalize=False, copy_X=True, n_jobs=1)\n",
    "LR.fit(X,y)\n",
    "alpha2 = LR.coef_[0][0]\n",
    "inter2 = LR.intercept_[0]\n",
    "print alpha2\n",
    "print LR.coef_\n",
    "print LR.intercept_"
   ]
  },
  {
   "cell_type": "code",
   "execution_count": 671,
   "metadata": {
    "collapsed": false
   },
   "outputs": [
    {
     "name": "stdout",
     "output_type": "stream",
     "text": [
      "(array([ 0.00151477]), array([ 0.98812762]))\n",
      "0.000995689735393\n",
      "[[ 0.00099569]]\n",
      "[ 16933.11358065]\n"
     ]
    }
   ],
   "source": [
    "data = pd.read_csv('TrainingSample.csv',sep=';')\n",
    "data = data[data.age<130]\n",
    "data = data[data.work_experience>=0]\n",
    "\n",
    "X = data['income'].values.reshape(len(data),1)\n",
    "z = data['expenditures'].values.reshape(len(data),1)\n",
    "t = data['work_experience'].values.reshape(len(data),1)\n",
    "y = data['Collateral_value'].values.reshape(len(data),1)\n",
    "for i in range(len(z)):\n",
    "    X[i] = (X[i] - z[i])*t[i];\n",
    "print pearsonr(X,y)\n",
    "LR = LinearRegression(fit_intercept=True, normalize=False, copy_X=True, n_jobs=1)\n",
    "LR.fit(X,y)\n",
    "alpha2 = LR.coef_[0][0]\n",
    "inter2 = LR.intercept_[0]\n",
    "print alpha2\n",
    "print LR.coef_\n",
    "print LR.intercept_"
   ]
  },
  {
   "cell_type": "markdown",
   "metadata": {},
   "source": [
    "# Tree Classifier"
   ]
  },
  {
   "cell_type": "code",
   "execution_count": 948,
   "metadata": {
    "collapsed": false
   },
   "outputs": [
    {
     "data": {
      "text/plain": [
       "array([ 0.30953165,  0.13128391,  0.01740506,  0.03030193,  0.13703255,\n",
       "        0.03132911,  0.34311579])"
      ]
     },
     "execution_count": 948,
     "metadata": {},
     "output_type": "execute_result"
    }
   ],
   "source": [
    "from sklearn import tree\n",
    "data = pd.read_csv('TrainingSample.csv',sep=';')\n",
    "data = data[data.age<130]\n",
    "data = data[data.work_experience>=0]\n",
    "X = data.ix[:,2:]\n",
    "y = data.ix[:,1]\n",
    "clf = tree.DecisionTreeClassifier()\n",
    "clf = clf.fit(X, y)\n",
    "clf.feature_importances_"
   ]
  },
  {
   "cell_type": "code",
   "execution_count": 965,
   "metadata": {
    "collapsed": false
   },
   "outputs": [
    {
     "ename": "AttributeError",
     "evalue": "'numpy.int64' object has no attribute 'set_value'",
     "output_type": "error",
     "traceback": [
      "\u001b[0;31m---------------------------------------------------------------------------\u001b[0m",
      "\u001b[0;31mAttributeError\u001b[0m                            Traceback (most recent call last)",
      "\u001b[0;32m<ipython-input-965-d56e05ec0828>\u001b[0m in \u001b[0;36m<module>\u001b[0;34m()\u001b[0m\n\u001b[1;32m      4\u001b[0m \u001b[0md\u001b[0m \u001b[0;34m=\u001b[0m \u001b[0mpd\u001b[0m\u001b[0;34m.\u001b[0m\u001b[0mDataFrame\u001b[0m\u001b[0;34m(\u001b[0m\u001b[0mdata\u001b[0m \u001b[0;34m=\u001b[0m \u001b[0mnp\u001b[0m\u001b[0;34m.\u001b[0m\u001b[0mones\u001b[0m\u001b[0;34m(\u001b[0m\u001b[0;34m(\u001b[0m\u001b[0mlen\u001b[0m\u001b[0;34m(\u001b[0m\u001b[0ma\u001b[0m\u001b[0;34m)\u001b[0m\u001b[0;34m,\u001b[0m\u001b[0;36m1\u001b[0m\u001b[0;34m)\u001b[0m\u001b[0;34m)\u001b[0m\u001b[0;34m,\u001b[0m \u001b[0mindex\u001b[0m \u001b[0;34m=\u001b[0m \u001b[0ma\u001b[0m\u001b[0;34m.\u001b[0m\u001b[0mindex\u001b[0m \u001b[0;34m)\u001b[0m\u001b[0;34m\u001b[0m\u001b[0m\n\u001b[1;32m      5\u001b[0m \u001b[0;32mfor\u001b[0m \u001b[0mi\u001b[0m \u001b[0;32min\u001b[0m \u001b[0ma\u001b[0m\u001b[0;34m.\u001b[0m\u001b[0mindex\u001b[0m\u001b[0;34m:\u001b[0m\u001b[0;34m\u001b[0m\u001b[0m\n\u001b[0;32m----> 6\u001b[0;31m     \u001b[0mb\u001b[0m\u001b[0;34m[\u001b[0m\u001b[0mi\u001b[0m\u001b[0;34m]\u001b[0m\u001b[0;34m.\u001b[0m\u001b[0mset_value\u001b[0m\u001b[0;34m\u001b[0m\u001b[0m\n\u001b[0m",
      "\u001b[0;31mAttributeError\u001b[0m: 'numpy.int64' object has no attribute 'set_value'"
     ]
    }
   ],
   "source": [
    "a = data.ix[:,1]\n",
    "b = data.ix[:,8]\n",
    "c = data.ix[:,7]\n",
    "    "
   ]
  },
  {
   "cell_type": "code",
   "execution_count": 996,
   "metadata": {
    "collapsed": false
   },
   "outputs": [],
   "source": [
    "exp = pd.DataFrame(data = a , columns = ['def','age','exp','norm_exp','diff'] , index = a.index , copy = True)\n",
    "for i in a.index:\n",
    "    exp.set_value(i,'def',a[i])\n",
    "    exp.set_value(i,'exp',b[i])\n",
    "    exp.set_value(i,'age',c[i])\n",
    "    exp.set_value(i,'norm_exp',0.37577*(c[i]-18))\n",
    "    #exp.set_value(i,'diff',2*( int(b[i] - 0.37577*(c[i]-18) >= 0) - 0.5))\n",
    "    exp.set_value(i,'diff',b[i] - 0.37577*(c[i]-18))"
   ]
  },
  {
   "cell_type": "code",
   "execution_count": 997,
   "metadata": {
    "collapsed": false
   },
   "outputs": [
    {
     "data": {
      "text/plain": [
       "20"
      ]
     },
     "execution_count": 997,
     "metadata": {},
     "output_type": "execute_result"
    }
   ],
   "source": [
    "len(exp[exp['def'] == 0])"
   ]
  },
  {
   "cell_type": "code",
   "execution_count": 998,
   "metadata": {
    "collapsed": false
   },
   "outputs": [
    {
     "data": {
      "text/html": [
       "<div>\n",
       "<table border=\"1\" class=\"dataframe\">\n",
       "  <thead>\n",
       "    <tr style=\"text-align: right;\">\n",
       "      <th></th>\n",
       "      <th>def</th>\n",
       "      <th>age</th>\n",
       "      <th>exp</th>\n",
       "      <th>norm_exp</th>\n",
       "      <th>diff</th>\n",
       "    </tr>\n",
       "  </thead>\n",
       "  <tbody>\n",
       "    <tr>\n",
       "      <th>6</th>\n",
       "      <td>0</td>\n",
       "      <td>20</td>\n",
       "      <td>2</td>\n",
       "      <td>0.75154</td>\n",
       "      <td>1.24846</td>\n",
       "    </tr>\n",
       "    <tr>\n",
       "      <th>7</th>\n",
       "      <td>0</td>\n",
       "      <td>29</td>\n",
       "      <td>6</td>\n",
       "      <td>4.13347</td>\n",
       "      <td>1.86653</td>\n",
       "    </tr>\n",
       "    <tr>\n",
       "      <th>8</th>\n",
       "      <td>0</td>\n",
       "      <td>20</td>\n",
       "      <td>2</td>\n",
       "      <td>0.75154</td>\n",
       "      <td>1.24846</td>\n",
       "    </tr>\n",
       "    <tr>\n",
       "      <th>18</th>\n",
       "      <td>0</td>\n",
       "      <td>18</td>\n",
       "      <td>0</td>\n",
       "      <td>0</td>\n",
       "      <td>0</td>\n",
       "    </tr>\n",
       "    <tr>\n",
       "      <th>20</th>\n",
       "      <td>0</td>\n",
       "      <td>19</td>\n",
       "      <td>1</td>\n",
       "      <td>0.37577</td>\n",
       "      <td>0.62423</td>\n",
       "    </tr>\n",
       "    <tr>\n",
       "      <th>21</th>\n",
       "      <td>0</td>\n",
       "      <td>35</td>\n",
       "      <td>3</td>\n",
       "      <td>6.38809</td>\n",
       "      <td>-3.38809</td>\n",
       "    </tr>\n",
       "    <tr>\n",
       "      <th>35</th>\n",
       "      <td>0</td>\n",
       "      <td>19</td>\n",
       "      <td>1</td>\n",
       "      <td>0.37577</td>\n",
       "      <td>0.62423</td>\n",
       "    </tr>\n",
       "    <tr>\n",
       "      <th>41</th>\n",
       "      <td>0</td>\n",
       "      <td>60</td>\n",
       "      <td>8</td>\n",
       "      <td>15.78234</td>\n",
       "      <td>-7.78234</td>\n",
       "    </tr>\n",
       "    <tr>\n",
       "      <th>43</th>\n",
       "      <td>0</td>\n",
       "      <td>29</td>\n",
       "      <td>6</td>\n",
       "      <td>4.13347</td>\n",
       "      <td>1.86653</td>\n",
       "    </tr>\n",
       "    <tr>\n",
       "      <th>50</th>\n",
       "      <td>0</td>\n",
       "      <td>20</td>\n",
       "      <td>2</td>\n",
       "      <td>0.75154</td>\n",
       "      <td>1.24846</td>\n",
       "    </tr>\n",
       "    <tr>\n",
       "      <th>54</th>\n",
       "      <td>0</td>\n",
       "      <td>18</td>\n",
       "      <td>0</td>\n",
       "      <td>0</td>\n",
       "      <td>0</td>\n",
       "    </tr>\n",
       "    <tr>\n",
       "      <th>69</th>\n",
       "      <td>0</td>\n",
       "      <td>25</td>\n",
       "      <td>5</td>\n",
       "      <td>2.63039</td>\n",
       "      <td>2.36961</td>\n",
       "    </tr>\n",
       "    <tr>\n",
       "      <th>71</th>\n",
       "      <td>0</td>\n",
       "      <td>26</td>\n",
       "      <td>6</td>\n",
       "      <td>3.00616</td>\n",
       "      <td>2.99384</td>\n",
       "    </tr>\n",
       "    <tr>\n",
       "      <th>73</th>\n",
       "      <td>0</td>\n",
       "      <td>42</td>\n",
       "      <td>6</td>\n",
       "      <td>9.01848</td>\n",
       "      <td>-3.01848</td>\n",
       "    </tr>\n",
       "    <tr>\n",
       "      <th>78</th>\n",
       "      <td>0</td>\n",
       "      <td>23</td>\n",
       "      <td>5</td>\n",
       "      <td>1.87885</td>\n",
       "      <td>3.12115</td>\n",
       "    </tr>\n",
       "    <tr>\n",
       "      <th>85</th>\n",
       "      <td>0</td>\n",
       "      <td>37</td>\n",
       "      <td>3</td>\n",
       "      <td>7.13963</td>\n",
       "      <td>-4.13963</td>\n",
       "    </tr>\n",
       "    <tr>\n",
       "      <th>90</th>\n",
       "      <td>0</td>\n",
       "      <td>58</td>\n",
       "      <td>3</td>\n",
       "      <td>15.0308</td>\n",
       "      <td>-12.0308</td>\n",
       "    </tr>\n",
       "    <tr>\n",
       "      <th>92</th>\n",
       "      <td>0</td>\n",
       "      <td>45</td>\n",
       "      <td>6</td>\n",
       "      <td>10.14579</td>\n",
       "      <td>-4.14579</td>\n",
       "    </tr>\n",
       "    <tr>\n",
       "      <th>93</th>\n",
       "      <td>0</td>\n",
       "      <td>25</td>\n",
       "      <td>2</td>\n",
       "      <td>2.63039</td>\n",
       "      <td>-0.63039</td>\n",
       "    </tr>\n",
       "    <tr>\n",
       "      <th>95</th>\n",
       "      <td>0</td>\n",
       "      <td>25</td>\n",
       "      <td>4</td>\n",
       "      <td>2.63039</td>\n",
       "      <td>1.36961</td>\n",
       "    </tr>\n",
       "  </tbody>\n",
       "</table>\n",
       "</div>"
      ],
      "text/plain": [
       "   def age exp  norm_exp     diff\n",
       "6    0  20   2   0.75154  1.24846\n",
       "7    0  29   6   4.13347  1.86653\n",
       "8    0  20   2   0.75154  1.24846\n",
       "18   0  18   0         0        0\n",
       "20   0  19   1   0.37577  0.62423\n",
       "21   0  35   3   6.38809 -3.38809\n",
       "35   0  19   1   0.37577  0.62423\n",
       "41   0  60   8  15.78234 -7.78234\n",
       "43   0  29   6   4.13347  1.86653\n",
       "50   0  20   2   0.75154  1.24846\n",
       "54   0  18   0         0        0\n",
       "69   0  25   5   2.63039  2.36961\n",
       "71   0  26   6   3.00616  2.99384\n",
       "73   0  42   6   9.01848 -3.01848\n",
       "78   0  23   5   1.87885  3.12115\n",
       "85   0  37   3   7.13963 -4.13963\n",
       "90   0  58   3   15.0308 -12.0308\n",
       "92   0  45   6  10.14579 -4.14579\n",
       "93   0  25   2   2.63039 -0.63039\n",
       "95   0  25   4   2.63039  1.36961"
      ]
     },
     "execution_count": 998,
     "metadata": {},
     "output_type": "execute_result"
    }
   ],
   "source": [
    "exp2 = exp[exp['def'] == 0]\n",
    "exp2"
   ]
  },
  {
   "cell_type": "code",
   "execution_count": 999,
   "metadata": {
    "collapsed": false
   },
   "outputs": [
    {
     "data": {
      "text/html": [
       "<div>\n",
       "<table border=\"1\" class=\"dataframe\">\n",
       "  <thead>\n",
       "    <tr style=\"text-align: right;\">\n",
       "      <th></th>\n",
       "      <th>def</th>\n",
       "      <th>age</th>\n",
       "      <th>exp</th>\n",
       "      <th>norm_exp</th>\n",
       "      <th>diff</th>\n",
       "    </tr>\n",
       "  </thead>\n",
       "  <tbody>\n",
       "    <tr>\n",
       "      <th>9</th>\n",
       "      <td>1</td>\n",
       "      <td>54</td>\n",
       "      <td>16</td>\n",
       "      <td>13.52772</td>\n",
       "      <td>2.47228</td>\n",
       "    </tr>\n",
       "    <tr>\n",
       "      <th>23</th>\n",
       "      <td>1</td>\n",
       "      <td>20</td>\n",
       "      <td>2</td>\n",
       "      <td>0.75154</td>\n",
       "      <td>1.24846</td>\n",
       "    </tr>\n",
       "    <tr>\n",
       "      <th>26</th>\n",
       "      <td>1</td>\n",
       "      <td>31</td>\n",
       "      <td>7</td>\n",
       "      <td>4.88501</td>\n",
       "      <td>2.11499</td>\n",
       "    </tr>\n",
       "    <tr>\n",
       "      <th>30</th>\n",
       "      <td>1</td>\n",
       "      <td>44</td>\n",
       "      <td>12</td>\n",
       "      <td>9.77002</td>\n",
       "      <td>2.22998</td>\n",
       "    </tr>\n",
       "    <tr>\n",
       "      <th>31</th>\n",
       "      <td>1</td>\n",
       "      <td>18</td>\n",
       "      <td>0</td>\n",
       "      <td>0</td>\n",
       "      <td>0</td>\n",
       "    </tr>\n",
       "    <tr>\n",
       "      <th>34</th>\n",
       "      <td>1</td>\n",
       "      <td>28</td>\n",
       "      <td>6</td>\n",
       "      <td>3.7577</td>\n",
       "      <td>2.2423</td>\n",
       "    </tr>\n",
       "    <tr>\n",
       "      <th>40</th>\n",
       "      <td>1</td>\n",
       "      <td>53</td>\n",
       "      <td>14</td>\n",
       "      <td>13.15195</td>\n",
       "      <td>0.84805</td>\n",
       "    </tr>\n",
       "    <tr>\n",
       "      <th>44</th>\n",
       "      <td>1</td>\n",
       "      <td>18</td>\n",
       "      <td>0</td>\n",
       "      <td>0</td>\n",
       "      <td>0</td>\n",
       "    </tr>\n",
       "    <tr>\n",
       "      <th>45</th>\n",
       "      <td>1</td>\n",
       "      <td>52</td>\n",
       "      <td>13</td>\n",
       "      <td>12.77618</td>\n",
       "      <td>0.22382</td>\n",
       "    </tr>\n",
       "    <tr>\n",
       "      <th>46</th>\n",
       "      <td>1</td>\n",
       "      <td>60</td>\n",
       "      <td>12</td>\n",
       "      <td>15.78234</td>\n",
       "      <td>-3.78234</td>\n",
       "    </tr>\n",
       "    <tr>\n",
       "      <th>47</th>\n",
       "      <td>1</td>\n",
       "      <td>19</td>\n",
       "      <td>1</td>\n",
       "      <td>0.37577</td>\n",
       "      <td>0.62423</td>\n",
       "    </tr>\n",
       "    <tr>\n",
       "      <th>53</th>\n",
       "      <td>1</td>\n",
       "      <td>18</td>\n",
       "      <td>0</td>\n",
       "      <td>0</td>\n",
       "      <td>0</td>\n",
       "    </tr>\n",
       "    <tr>\n",
       "      <th>55</th>\n",
       "      <td>1</td>\n",
       "      <td>31</td>\n",
       "      <td>4</td>\n",
       "      <td>4.88501</td>\n",
       "      <td>-0.88501</td>\n",
       "    </tr>\n",
       "    <tr>\n",
       "      <th>56</th>\n",
       "      <td>1</td>\n",
       "      <td>18</td>\n",
       "      <td>0</td>\n",
       "      <td>0</td>\n",
       "      <td>0</td>\n",
       "    </tr>\n",
       "    <tr>\n",
       "      <th>57</th>\n",
       "      <td>1</td>\n",
       "      <td>18</td>\n",
       "      <td>0</td>\n",
       "      <td>0</td>\n",
       "      <td>0</td>\n",
       "    </tr>\n",
       "    <tr>\n",
       "      <th>58</th>\n",
       "      <td>1</td>\n",
       "      <td>41</td>\n",
       "      <td>10</td>\n",
       "      <td>8.64271</td>\n",
       "      <td>1.35729</td>\n",
       "    </tr>\n",
       "    <tr>\n",
       "      <th>61</th>\n",
       "      <td>1</td>\n",
       "      <td>68</td>\n",
       "      <td>9</td>\n",
       "      <td>18.7885</td>\n",
       "      <td>-9.7885</td>\n",
       "    </tr>\n",
       "    <tr>\n",
       "      <th>62</th>\n",
       "      <td>1</td>\n",
       "      <td>19</td>\n",
       "      <td>1</td>\n",
       "      <td>0.37577</td>\n",
       "      <td>0.62423</td>\n",
       "    </tr>\n",
       "    <tr>\n",
       "      <th>64</th>\n",
       "      <td>1</td>\n",
       "      <td>22</td>\n",
       "      <td>4</td>\n",
       "      <td>1.50308</td>\n",
       "      <td>2.49692</td>\n",
       "    </tr>\n",
       "    <tr>\n",
       "      <th>70</th>\n",
       "      <td>1</td>\n",
       "      <td>42</td>\n",
       "      <td>11</td>\n",
       "      <td>9.01848</td>\n",
       "      <td>1.98152</td>\n",
       "    </tr>\n",
       "    <tr>\n",
       "      <th>72</th>\n",
       "      <td>1</td>\n",
       "      <td>56</td>\n",
       "      <td>8</td>\n",
       "      <td>14.27926</td>\n",
       "      <td>-6.27926</td>\n",
       "    </tr>\n",
       "    <tr>\n",
       "      <th>74</th>\n",
       "      <td>1</td>\n",
       "      <td>32</td>\n",
       "      <td>6</td>\n",
       "      <td>5.26078</td>\n",
       "      <td>0.73922</td>\n",
       "    </tr>\n",
       "    <tr>\n",
       "      <th>75</th>\n",
       "      <td>1</td>\n",
       "      <td>18</td>\n",
       "      <td>0</td>\n",
       "      <td>0</td>\n",
       "      <td>0</td>\n",
       "    </tr>\n",
       "    <tr>\n",
       "      <th>77</th>\n",
       "      <td>1</td>\n",
       "      <td>18</td>\n",
       "      <td>0</td>\n",
       "      <td>0</td>\n",
       "      <td>0</td>\n",
       "    </tr>\n",
       "    <tr>\n",
       "      <th>80</th>\n",
       "      <td>1</td>\n",
       "      <td>43</td>\n",
       "      <td>12</td>\n",
       "      <td>9.39425</td>\n",
       "      <td>2.60575</td>\n",
       "    </tr>\n",
       "    <tr>\n",
       "      <th>87</th>\n",
       "      <td>1</td>\n",
       "      <td>22</td>\n",
       "      <td>4</td>\n",
       "      <td>1.50308</td>\n",
       "      <td>2.49692</td>\n",
       "    </tr>\n",
       "    <tr>\n",
       "      <th>88</th>\n",
       "      <td>1</td>\n",
       "      <td>21</td>\n",
       "      <td>3</td>\n",
       "      <td>1.12731</td>\n",
       "      <td>1.87269</td>\n",
       "    </tr>\n",
       "    <tr>\n",
       "      <th>89</th>\n",
       "      <td>1</td>\n",
       "      <td>22</td>\n",
       "      <td>4</td>\n",
       "      <td>1.50308</td>\n",
       "      <td>2.49692</td>\n",
       "    </tr>\n",
       "    <tr>\n",
       "      <th>99</th>\n",
       "      <td>1</td>\n",
       "      <td>37</td>\n",
       "      <td>10</td>\n",
       "      <td>7.13963</td>\n",
       "      <td>2.86037</td>\n",
       "    </tr>\n",
       "  </tbody>\n",
       "</table>\n",
       "</div>"
      ],
      "text/plain": [
       "   def age exp  norm_exp     diff\n",
       "9    1  54  16  13.52772  2.47228\n",
       "23   1  20   2   0.75154  1.24846\n",
       "26   1  31   7   4.88501  2.11499\n",
       "30   1  44  12   9.77002  2.22998\n",
       "31   1  18   0         0        0\n",
       "34   1  28   6    3.7577   2.2423\n",
       "40   1  53  14  13.15195  0.84805\n",
       "44   1  18   0         0        0\n",
       "45   1  52  13  12.77618  0.22382\n",
       "46   1  60  12  15.78234 -3.78234\n",
       "47   1  19   1   0.37577  0.62423\n",
       "53   1  18   0         0        0\n",
       "55   1  31   4   4.88501 -0.88501\n",
       "56   1  18   0         0        0\n",
       "57   1  18   0         0        0\n",
       "58   1  41  10   8.64271  1.35729\n",
       "61   1  68   9   18.7885  -9.7885\n",
       "62   1  19   1   0.37577  0.62423\n",
       "64   1  22   4   1.50308  2.49692\n",
       "70   1  42  11   9.01848  1.98152\n",
       "72   1  56   8  14.27926 -6.27926\n",
       "74   1  32   6   5.26078  0.73922\n",
       "75   1  18   0         0        0\n",
       "77   1  18   0         0        0\n",
       "80   1  43  12   9.39425  2.60575\n",
       "87   1  22   4   1.50308  2.49692\n",
       "88   1  21   3   1.12731  1.87269\n",
       "89   1  22   4   1.50308  2.49692\n",
       "99   1  37  10   7.13963  2.86037"
      ]
     },
     "execution_count": 999,
     "metadata": {},
     "output_type": "execute_result"
    }
   ],
   "source": [
    "exp3 = exp[exp['def']==1]\n",
    "#exp3[exp3['exp']<8]\n",
    "exp3[exp3['diff']<=3]"
   ]
  },
  {
   "cell_type": "code",
   "execution_count": 1042,
   "metadata": {
    "collapsed": false
   },
   "outputs": [
    {
     "data": {
      "text/plain": [
       "<matplotlib.collections.PathCollection at 0x119a53a90>"
      ]
     },
     "execution_count": 1042,
     "metadata": {},
     "output_type": "execute_result"
    },
    {
     "data": {
      "image/png": "[encoded data removed]",
      "text/plain": [
       "<matplotlib.figure.Figure at 0x1162542d0>"
      ]
     },
     "metadata": {},
     "output_type": "display_data"
    }
   ],
   "source": [
    "plt.scatter(b,a)"
   ]
  },
  {
   "cell_type": "code",
   "execution_count": 1089,
   "metadata": {
    "collapsed": false
   },
   "outputs": [
    {
     "name": "stdout",
     "output_type": "stream",
     "text": [
      "77 23 income\n",
      "80 20 expenditures\n",
      "80 20 loan_amount\n",
      "80 20 loan_installment\n",
      "80 20 Collateral_value\n",
      "80 20 age\n",
      "80 20 work_experience\n"
     ]
    }
   ],
   "source": [
    "data = pd.read_csv('TrainingSample.csv',sep=';')\n",
    "names = data.columns.values\n",
    "data = data[data.age<130]\n",
    "data = data[data.work_experience>=0]\n",
    "y = data.ix[:,1]\n",
    "\n",
    "data2 = pd.read_csv('ValidationSample.csv',sep=';')\n",
    "data2 = data2[data2.age<130]\n",
    "data2 = data2[data2.work_experience>=0]\n",
    "y_new = data2.ix[:,1]\n",
    "LRT = LinearRegression(fit_intercept=True, normalize=True, copy_X=True, n_jobs=1);\n",
    "for i in range(2,9):\n",
    "    X = data.ix[:,i].reshape(99,1)\n",
    "    X_new = data2.ix[:,i].reshape(100,1)\n",
    "    LRT.fit(X,y)\n",
    "    f = 0\n",
    "    y_pred = LRT.predict(X_new)\n",
    "    for j in range(len(y_pred)):\n",
    "        if y_pred[j]>=0.5:\n",
    "            y_pred[j] = 1;\n",
    "        else:\n",
    "            y_pred[i]=0;\n",
    "    for j in data2.index:\n",
    "        if y_pred[j] == y_new[j]:\n",
    "            f = f+1\n",
    "    print f , 100-f , names[i]"
   ]
  },
  {
   "cell_type": "code",
   "execution_count": null,
   "metadata": {
    "collapsed": true
   },
   "outputs": [],
   "source": []
  }
 ],
 "metadata": {
  "kernelspec": {
   "display_name": "Python 2",
   "language": "python",
   "name": "python2"
  },
  "language_info": {
   "codemirror_mode": {
    "name": "ipython",
    "version": 2
   },
   "file_extension": ".py",
   "mimetype": "text/x-python",
   "name": "python",
   "nbconvert_exporter": "python",
   "pygments_lexer": "ipython2",
   "version": "2.7.10"
  }
 },
 "nbformat": 4,
 "nbformat_minor": 0
}
